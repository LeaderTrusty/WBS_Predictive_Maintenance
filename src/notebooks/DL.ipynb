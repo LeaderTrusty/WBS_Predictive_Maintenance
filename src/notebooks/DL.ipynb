{
 "cells": [
  {
   "cell_type": "markdown",
   "id": "a51cf900-955f-42b3-a035-3e019d8bb2f4",
   "metadata": {
    "tags": []
   },
   "source": [
    "# Import modules"
   ]
  },
  {
   "cell_type": "code",
   "execution_count": 1,
   "id": "b3bda564-a6ea-4a9e-b531-246058031362",
   "metadata": {},
   "outputs": [
    {
     "name": "stderr",
     "output_type": "stream",
     "text": [
      "2023-06-28 15:45:25.482101: I tensorflow/core/util/port.cc:110] oneDNN custom operations are on. You may see slightly different numerical results due to floating-point round-off errors from different computation orders. To turn them off, set the environment variable `TF_ENABLE_ONEDNN_OPTS=0`.\n",
      "2023-06-28 15:45:25.483694: I tensorflow/tsl/cuda/cudart_stub.cc:28] Could not find cuda drivers on your machine, GPU will not be used.\n",
      "2023-06-28 15:45:25.524206: I tensorflow/tsl/cuda/cudart_stub.cc:28] Could not find cuda drivers on your machine, GPU will not be used.\n",
      "2023-06-28 15:45:25.526105: I tensorflow/core/platform/cpu_feature_guard.cc:182] This TensorFlow binary is optimized to use available CPU instructions in performance-critical operations.\n",
      "To enable the following instructions: AVX2 AVX_VNNI FMA, in other operations, rebuild TensorFlow with the appropriate compiler flags.\n",
      "2023-06-28 15:45:26.280649: W tensorflow/compiler/tf2tensorrt/utils/py_utils.cc:38] TF-TRT Warning: Could not find TensorRT\n"
     ]
    }
   ],
   "source": [
    "import pandas as pd\n",
    "\n",
    "# our modules\n",
    "import sys\n",
    "sys.path.insert(0, '..')\n",
    "\n",
    "# user defined\n",
    "from clean import clean_data\n",
    "from imbalance import balance_data\n",
    "from evaluate import evaluate_model\n",
    "\n",
    "# preprocessing\n",
    "from sklearn.preprocessing import MinMaxScaler, StandardScaler, RobustScaler\n",
    "from sklearn.model_selection import train_test_split, GridSearchCV\n",
    "\n",
    "# TensorFlow\n",
    "from tensorflow import keras\n",
    "from tensorflow.keras import layers\n",
    "from tensorflow.keras.callbacks import EarlyStopping\n",
    "\n",
    "\n",
    "# pipeline\n",
    "from sklearn.pipeline import Pipeline\n",
    "\n",
    "from sklearn.metrics import accuracy_score, roc_auc_score, r2_score, recall_score, precision_score, f1_score, matthews_corrcoef, confusion_matrix\n",
    "\n",
    "import seaborn as sns\n",
    "import matplotlib.pyplot as plt"
   ]
  },
  {
   "cell_type": "code",
   "execution_count": 2,
   "id": "28c3395f-405f-47c7-8df1-0ea1283a4fa1",
   "metadata": {},
   "outputs": [],
   "source": [
    "pd.set_option(\"display.precision\", 6)\n",
    "pd.set_option(\"display.float_format\", lambda x: \"%.6f\" % x)"
   ]
  },
  {
   "cell_type": "code",
   "execution_count": 3,
   "id": "bf7a01f4-8746-4fcf-8f6d-d45730525e25",
   "metadata": {},
   "outputs": [],
   "source": [
    "RANDOM_STATE = 123"
   ]
  },
  {
   "cell_type": "markdown",
   "id": "bcde475b-e857-4b00-87de-343d1d45dc00",
   "metadata": {},
   "source": [
    "# Load data"
   ]
  },
  {
   "cell_type": "code",
   "execution_count": 4,
   "id": "5c758039-6f01-4249-b00d-6dde9e46614b",
   "metadata": {},
   "outputs": [],
   "source": [
    "data = pd.read_csv('/home/hristo/Documents/WBS_Data_Science/WBS_Predictive_Maintenance/data/ai4i2020.csv', index_col='UDI')"
   ]
  },
  {
   "cell_type": "code",
   "execution_count": 5,
   "id": "71668fcd-1e73-495f-986e-13f3d6cb010a",
   "metadata": {},
   "outputs": [
    {
     "data": {
      "text/html": [
       "<div>\n",
       "<style scoped>\n",
       "    .dataframe tbody tr th:only-of-type {\n",
       "        vertical-align: middle;\n",
       "    }\n",
       "\n",
       "    .dataframe tbody tr th {\n",
       "        vertical-align: top;\n",
       "    }\n",
       "\n",
       "    .dataframe thead th {\n",
       "        text-align: right;\n",
       "    }\n",
       "</style>\n",
       "<table border=\"1\" class=\"dataframe\">\n",
       "  <thead>\n",
       "    <tr style=\"text-align: right;\">\n",
       "      <th></th>\n",
       "      <th>Product ID</th>\n",
       "      <th>Type</th>\n",
       "      <th>Air temperature [K]</th>\n",
       "      <th>Process temperature [K]</th>\n",
       "      <th>Rotational speed [rpm]</th>\n",
       "      <th>Torque [Nm]</th>\n",
       "      <th>Tool wear [min]</th>\n",
       "      <th>Machine failure</th>\n",
       "      <th>TWF</th>\n",
       "      <th>HDF</th>\n",
       "      <th>PWF</th>\n",
       "      <th>OSF</th>\n",
       "      <th>RNF</th>\n",
       "    </tr>\n",
       "    <tr>\n",
       "      <th>UDI</th>\n",
       "      <th></th>\n",
       "      <th></th>\n",
       "      <th></th>\n",
       "      <th></th>\n",
       "      <th></th>\n",
       "      <th></th>\n",
       "      <th></th>\n",
       "      <th></th>\n",
       "      <th></th>\n",
       "      <th></th>\n",
       "      <th></th>\n",
       "      <th></th>\n",
       "      <th></th>\n",
       "    </tr>\n",
       "  </thead>\n",
       "  <tbody>\n",
       "    <tr>\n",
       "      <th>1</th>\n",
       "      <td>M14860</td>\n",
       "      <td>M</td>\n",
       "      <td>298.100000</td>\n",
       "      <td>308.600000</td>\n",
       "      <td>1551</td>\n",
       "      <td>42.800000</td>\n",
       "      <td>0</td>\n",
       "      <td>0</td>\n",
       "      <td>0</td>\n",
       "      <td>0</td>\n",
       "      <td>0</td>\n",
       "      <td>0</td>\n",
       "      <td>0</td>\n",
       "    </tr>\n",
       "    <tr>\n",
       "      <th>2</th>\n",
       "      <td>L47181</td>\n",
       "      <td>L</td>\n",
       "      <td>298.200000</td>\n",
       "      <td>308.700000</td>\n",
       "      <td>1408</td>\n",
       "      <td>46.300000</td>\n",
       "      <td>3</td>\n",
       "      <td>0</td>\n",
       "      <td>0</td>\n",
       "      <td>0</td>\n",
       "      <td>0</td>\n",
       "      <td>0</td>\n",
       "      <td>0</td>\n",
       "    </tr>\n",
       "    <tr>\n",
       "      <th>3</th>\n",
       "      <td>L47182</td>\n",
       "      <td>L</td>\n",
       "      <td>298.100000</td>\n",
       "      <td>308.500000</td>\n",
       "      <td>1498</td>\n",
       "      <td>49.400000</td>\n",
       "      <td>5</td>\n",
       "      <td>0</td>\n",
       "      <td>0</td>\n",
       "      <td>0</td>\n",
       "      <td>0</td>\n",
       "      <td>0</td>\n",
       "      <td>0</td>\n",
       "    </tr>\n",
       "    <tr>\n",
       "      <th>4</th>\n",
       "      <td>L47183</td>\n",
       "      <td>L</td>\n",
       "      <td>298.200000</td>\n",
       "      <td>308.600000</td>\n",
       "      <td>1433</td>\n",
       "      <td>39.500000</td>\n",
       "      <td>7</td>\n",
       "      <td>0</td>\n",
       "      <td>0</td>\n",
       "      <td>0</td>\n",
       "      <td>0</td>\n",
       "      <td>0</td>\n",
       "      <td>0</td>\n",
       "    </tr>\n",
       "    <tr>\n",
       "      <th>5</th>\n",
       "      <td>L47184</td>\n",
       "      <td>L</td>\n",
       "      <td>298.200000</td>\n",
       "      <td>308.700000</td>\n",
       "      <td>1408</td>\n",
       "      <td>40.000000</td>\n",
       "      <td>9</td>\n",
       "      <td>0</td>\n",
       "      <td>0</td>\n",
       "      <td>0</td>\n",
       "      <td>0</td>\n",
       "      <td>0</td>\n",
       "      <td>0</td>\n",
       "    </tr>\n",
       "    <tr>\n",
       "      <th>...</th>\n",
       "      <td>...</td>\n",
       "      <td>...</td>\n",
       "      <td>...</td>\n",
       "      <td>...</td>\n",
       "      <td>...</td>\n",
       "      <td>...</td>\n",
       "      <td>...</td>\n",
       "      <td>...</td>\n",
       "      <td>...</td>\n",
       "      <td>...</td>\n",
       "      <td>...</td>\n",
       "      <td>...</td>\n",
       "      <td>...</td>\n",
       "    </tr>\n",
       "    <tr>\n",
       "      <th>9996</th>\n",
       "      <td>M24855</td>\n",
       "      <td>M</td>\n",
       "      <td>298.800000</td>\n",
       "      <td>308.400000</td>\n",
       "      <td>1604</td>\n",
       "      <td>29.500000</td>\n",
       "      <td>14</td>\n",
       "      <td>0</td>\n",
       "      <td>0</td>\n",
       "      <td>0</td>\n",
       "      <td>0</td>\n",
       "      <td>0</td>\n",
       "      <td>0</td>\n",
       "    </tr>\n",
       "    <tr>\n",
       "      <th>9997</th>\n",
       "      <td>H39410</td>\n",
       "      <td>H</td>\n",
       "      <td>298.900000</td>\n",
       "      <td>308.400000</td>\n",
       "      <td>1632</td>\n",
       "      <td>31.800000</td>\n",
       "      <td>17</td>\n",
       "      <td>0</td>\n",
       "      <td>0</td>\n",
       "      <td>0</td>\n",
       "      <td>0</td>\n",
       "      <td>0</td>\n",
       "      <td>0</td>\n",
       "    </tr>\n",
       "    <tr>\n",
       "      <th>9998</th>\n",
       "      <td>M24857</td>\n",
       "      <td>M</td>\n",
       "      <td>299.000000</td>\n",
       "      <td>308.600000</td>\n",
       "      <td>1645</td>\n",
       "      <td>33.400000</td>\n",
       "      <td>22</td>\n",
       "      <td>0</td>\n",
       "      <td>0</td>\n",
       "      <td>0</td>\n",
       "      <td>0</td>\n",
       "      <td>0</td>\n",
       "      <td>0</td>\n",
       "    </tr>\n",
       "    <tr>\n",
       "      <th>9999</th>\n",
       "      <td>H39412</td>\n",
       "      <td>H</td>\n",
       "      <td>299.000000</td>\n",
       "      <td>308.700000</td>\n",
       "      <td>1408</td>\n",
       "      <td>48.500000</td>\n",
       "      <td>25</td>\n",
       "      <td>0</td>\n",
       "      <td>0</td>\n",
       "      <td>0</td>\n",
       "      <td>0</td>\n",
       "      <td>0</td>\n",
       "      <td>0</td>\n",
       "    </tr>\n",
       "    <tr>\n",
       "      <th>10000</th>\n",
       "      <td>M24859</td>\n",
       "      <td>M</td>\n",
       "      <td>299.000000</td>\n",
       "      <td>308.700000</td>\n",
       "      <td>1500</td>\n",
       "      <td>40.200000</td>\n",
       "      <td>30</td>\n",
       "      <td>0</td>\n",
       "      <td>0</td>\n",
       "      <td>0</td>\n",
       "      <td>0</td>\n",
       "      <td>0</td>\n",
       "      <td>0</td>\n",
       "    </tr>\n",
       "  </tbody>\n",
       "</table>\n",
       "<p>10000 rows × 13 columns</p>\n",
       "</div>"
      ],
      "text/plain": [
       "      Product ID Type  Air temperature [K]  Process temperature [K]  \\\n",
       "UDI                                                                   \n",
       "1         M14860    M           298.100000               308.600000   \n",
       "2         L47181    L           298.200000               308.700000   \n",
       "3         L47182    L           298.100000               308.500000   \n",
       "4         L47183    L           298.200000               308.600000   \n",
       "5         L47184    L           298.200000               308.700000   \n",
       "...          ...  ...                  ...                      ...   \n",
       "9996      M24855    M           298.800000               308.400000   \n",
       "9997      H39410    H           298.900000               308.400000   \n",
       "9998      M24857    M           299.000000               308.600000   \n",
       "9999      H39412    H           299.000000               308.700000   \n",
       "10000     M24859    M           299.000000               308.700000   \n",
       "\n",
       "       Rotational speed [rpm]  Torque [Nm]  Tool wear [min]  Machine failure  \\\n",
       "UDI                                                                            \n",
       "1                        1551    42.800000                0                0   \n",
       "2                        1408    46.300000                3                0   \n",
       "3                        1498    49.400000                5                0   \n",
       "4                        1433    39.500000                7                0   \n",
       "5                        1408    40.000000                9                0   \n",
       "...                       ...          ...              ...              ...   \n",
       "9996                     1604    29.500000               14                0   \n",
       "9997                     1632    31.800000               17                0   \n",
       "9998                     1645    33.400000               22                0   \n",
       "9999                     1408    48.500000               25                0   \n",
       "10000                    1500    40.200000               30                0   \n",
       "\n",
       "       TWF  HDF  PWF  OSF  RNF  \n",
       "UDI                             \n",
       "1        0    0    0    0    0  \n",
       "2        0    0    0    0    0  \n",
       "3        0    0    0    0    0  \n",
       "4        0    0    0    0    0  \n",
       "5        0    0    0    0    0  \n",
       "...    ...  ...  ...  ...  ...  \n",
       "9996     0    0    0    0    0  \n",
       "9997     0    0    0    0    0  \n",
       "9998     0    0    0    0    0  \n",
       "9999     0    0    0    0    0  \n",
       "10000    0    0    0    0    0  \n",
       "\n",
       "[10000 rows x 13 columns]"
      ]
     },
     "execution_count": 5,
     "metadata": {},
     "output_type": "execute_result"
    }
   ],
   "source": [
    "data"
   ]
  },
  {
   "cell_type": "markdown",
   "id": "1c541694-0c0a-412b-8e86-c93b9be5024a",
   "metadata": {},
   "source": [
    "# Clean data"
   ]
  },
  {
   "cell_type": "code",
   "execution_count": 6,
   "id": "d596c7fd-6fb3-4cf2-b6ff-4bfa0e77b809",
   "metadata": {},
   "outputs": [
    {
     "data": {
      "text/html": [
       "<div>\n",
       "<style scoped>\n",
       "    .dataframe tbody tr th:only-of-type {\n",
       "        vertical-align: middle;\n",
       "    }\n",
       "\n",
       "    .dataframe tbody tr th {\n",
       "        vertical-align: top;\n",
       "    }\n",
       "\n",
       "    .dataframe thead th {\n",
       "        text-align: right;\n",
       "    }\n",
       "</style>\n",
       "<table border=\"1\" class=\"dataframe\">\n",
       "  <thead>\n",
       "    <tr style=\"text-align: right;\">\n",
       "      <th></th>\n",
       "      <th>Air temperature [K]</th>\n",
       "      <th>Process temperature [K]</th>\n",
       "      <th>Rotational speed [rpm]</th>\n",
       "      <th>Torque [Nm]</th>\n",
       "      <th>Tool wear [min]</th>\n",
       "      <th>Machine failure</th>\n",
       "    </tr>\n",
       "    <tr>\n",
       "      <th>UDI</th>\n",
       "      <th></th>\n",
       "      <th></th>\n",
       "      <th></th>\n",
       "      <th></th>\n",
       "      <th></th>\n",
       "      <th></th>\n",
       "    </tr>\n",
       "  </thead>\n",
       "  <tbody>\n",
       "    <tr>\n",
       "      <th>1</th>\n",
       "      <td>298.100000</td>\n",
       "      <td>308.600000</td>\n",
       "      <td>1551</td>\n",
       "      <td>42.800000</td>\n",
       "      <td>0</td>\n",
       "      <td>0</td>\n",
       "    </tr>\n",
       "    <tr>\n",
       "      <th>2</th>\n",
       "      <td>298.200000</td>\n",
       "      <td>308.700000</td>\n",
       "      <td>1408</td>\n",
       "      <td>46.300000</td>\n",
       "      <td>3</td>\n",
       "      <td>0</td>\n",
       "    </tr>\n",
       "    <tr>\n",
       "      <th>3</th>\n",
       "      <td>298.100000</td>\n",
       "      <td>308.500000</td>\n",
       "      <td>1498</td>\n",
       "      <td>49.400000</td>\n",
       "      <td>5</td>\n",
       "      <td>0</td>\n",
       "    </tr>\n",
       "    <tr>\n",
       "      <th>4</th>\n",
       "      <td>298.200000</td>\n",
       "      <td>308.600000</td>\n",
       "      <td>1433</td>\n",
       "      <td>39.500000</td>\n",
       "      <td>7</td>\n",
       "      <td>0</td>\n",
       "    </tr>\n",
       "    <tr>\n",
       "      <th>5</th>\n",
       "      <td>298.200000</td>\n",
       "      <td>308.700000</td>\n",
       "      <td>1408</td>\n",
       "      <td>40.000000</td>\n",
       "      <td>9</td>\n",
       "      <td>0</td>\n",
       "    </tr>\n",
       "    <tr>\n",
       "      <th>...</th>\n",
       "      <td>...</td>\n",
       "      <td>...</td>\n",
       "      <td>...</td>\n",
       "      <td>...</td>\n",
       "      <td>...</td>\n",
       "      <td>...</td>\n",
       "    </tr>\n",
       "    <tr>\n",
       "      <th>9996</th>\n",
       "      <td>298.800000</td>\n",
       "      <td>308.400000</td>\n",
       "      <td>1604</td>\n",
       "      <td>29.500000</td>\n",
       "      <td>14</td>\n",
       "      <td>0</td>\n",
       "    </tr>\n",
       "    <tr>\n",
       "      <th>9997</th>\n",
       "      <td>298.900000</td>\n",
       "      <td>308.400000</td>\n",
       "      <td>1632</td>\n",
       "      <td>31.800000</td>\n",
       "      <td>17</td>\n",
       "      <td>0</td>\n",
       "    </tr>\n",
       "    <tr>\n",
       "      <th>9998</th>\n",
       "      <td>299.000000</td>\n",
       "      <td>308.600000</td>\n",
       "      <td>1645</td>\n",
       "      <td>33.400000</td>\n",
       "      <td>22</td>\n",
       "      <td>0</td>\n",
       "    </tr>\n",
       "    <tr>\n",
       "      <th>9999</th>\n",
       "      <td>299.000000</td>\n",
       "      <td>308.700000</td>\n",
       "      <td>1408</td>\n",
       "      <td>48.500000</td>\n",
       "      <td>25</td>\n",
       "      <td>0</td>\n",
       "    </tr>\n",
       "    <tr>\n",
       "      <th>10000</th>\n",
       "      <td>299.000000</td>\n",
       "      <td>308.700000</td>\n",
       "      <td>1500</td>\n",
       "      <td>40.200000</td>\n",
       "      <td>30</td>\n",
       "      <td>0</td>\n",
       "    </tr>\n",
       "  </tbody>\n",
       "</table>\n",
       "<p>10000 rows × 6 columns</p>\n",
       "</div>"
      ],
      "text/plain": [
       "       Air temperature [K]  Process temperature [K]  Rotational speed [rpm]  \\\n",
       "UDI                                                                           \n",
       "1               298.100000               308.600000                    1551   \n",
       "2               298.200000               308.700000                    1408   \n",
       "3               298.100000               308.500000                    1498   \n",
       "4               298.200000               308.600000                    1433   \n",
       "5               298.200000               308.700000                    1408   \n",
       "...                    ...                      ...                     ...   \n",
       "9996            298.800000               308.400000                    1604   \n",
       "9997            298.900000               308.400000                    1632   \n",
       "9998            299.000000               308.600000                    1645   \n",
       "9999            299.000000               308.700000                    1408   \n",
       "10000           299.000000               308.700000                    1500   \n",
       "\n",
       "       Torque [Nm]  Tool wear [min]  Machine failure  \n",
       "UDI                                                   \n",
       "1        42.800000                0                0  \n",
       "2        46.300000                3                0  \n",
       "3        49.400000                5                0  \n",
       "4        39.500000                7                0  \n",
       "5        40.000000                9                0  \n",
       "...            ...              ...              ...  \n",
       "9996     29.500000               14                0  \n",
       "9997     31.800000               17                0  \n",
       "9998     33.400000               22                0  \n",
       "9999     48.500000               25                0  \n",
       "10000    40.200000               30                0  \n",
       "\n",
       "[10000 rows x 6 columns]"
      ]
     },
     "execution_count": 6,
     "metadata": {},
     "output_type": "execute_result"
    }
   ],
   "source": [
    "data_cl = clean_data(data, drop_type=True)\n",
    "data_cl"
   ]
  },
  {
   "cell_type": "markdown",
   "id": "c490c757-ee0a-4616-81bf-26c935e7e7ca",
   "metadata": {},
   "source": [
    "# Prepare data"
   ]
  },
  {
   "cell_type": "code",
   "execution_count": 7,
   "id": "b255c974-4f7c-47db-be02-0b101552265c",
   "metadata": {},
   "outputs": [],
   "source": [
    "X = data_cl.copy()\n",
    "y = X.pop('Machine failure')"
   ]
  },
  {
   "cell_type": "code",
   "execution_count": 8,
   "id": "8e60dfc1-9a9e-4217-867d-c79227c5a0f3",
   "metadata": {},
   "outputs": [
    {
     "data": {
      "text/html": [
       "<div>\n",
       "<style scoped>\n",
       "    .dataframe tbody tr th:only-of-type {\n",
       "        vertical-align: middle;\n",
       "    }\n",
       "\n",
       "    .dataframe tbody tr th {\n",
       "        vertical-align: top;\n",
       "    }\n",
       "\n",
       "    .dataframe thead th {\n",
       "        text-align: right;\n",
       "    }\n",
       "</style>\n",
       "<table border=\"1\" class=\"dataframe\">\n",
       "  <thead>\n",
       "    <tr style=\"text-align: right;\">\n",
       "      <th></th>\n",
       "      <th>Air temperature [K]</th>\n",
       "      <th>Process temperature [K]</th>\n",
       "      <th>Rotational speed [rpm]</th>\n",
       "      <th>Torque [Nm]</th>\n",
       "      <th>Tool wear [min]</th>\n",
       "    </tr>\n",
       "    <tr>\n",
       "      <th>UDI</th>\n",
       "      <th></th>\n",
       "      <th></th>\n",
       "      <th></th>\n",
       "      <th></th>\n",
       "      <th></th>\n",
       "    </tr>\n",
       "  </thead>\n",
       "  <tbody>\n",
       "    <tr>\n",
       "      <th>1</th>\n",
       "      <td>298.100000</td>\n",
       "      <td>308.600000</td>\n",
       "      <td>1551</td>\n",
       "      <td>42.800000</td>\n",
       "      <td>0</td>\n",
       "    </tr>\n",
       "    <tr>\n",
       "      <th>2</th>\n",
       "      <td>298.200000</td>\n",
       "      <td>308.700000</td>\n",
       "      <td>1408</td>\n",
       "      <td>46.300000</td>\n",
       "      <td>3</td>\n",
       "    </tr>\n",
       "    <tr>\n",
       "      <th>3</th>\n",
       "      <td>298.100000</td>\n",
       "      <td>308.500000</td>\n",
       "      <td>1498</td>\n",
       "      <td>49.400000</td>\n",
       "      <td>5</td>\n",
       "    </tr>\n",
       "    <tr>\n",
       "      <th>4</th>\n",
       "      <td>298.200000</td>\n",
       "      <td>308.600000</td>\n",
       "      <td>1433</td>\n",
       "      <td>39.500000</td>\n",
       "      <td>7</td>\n",
       "    </tr>\n",
       "    <tr>\n",
       "      <th>5</th>\n",
       "      <td>298.200000</td>\n",
       "      <td>308.700000</td>\n",
       "      <td>1408</td>\n",
       "      <td>40.000000</td>\n",
       "      <td>9</td>\n",
       "    </tr>\n",
       "    <tr>\n",
       "      <th>...</th>\n",
       "      <td>...</td>\n",
       "      <td>...</td>\n",
       "      <td>...</td>\n",
       "      <td>...</td>\n",
       "      <td>...</td>\n",
       "    </tr>\n",
       "    <tr>\n",
       "      <th>9996</th>\n",
       "      <td>298.800000</td>\n",
       "      <td>308.400000</td>\n",
       "      <td>1604</td>\n",
       "      <td>29.500000</td>\n",
       "      <td>14</td>\n",
       "    </tr>\n",
       "    <tr>\n",
       "      <th>9997</th>\n",
       "      <td>298.900000</td>\n",
       "      <td>308.400000</td>\n",
       "      <td>1632</td>\n",
       "      <td>31.800000</td>\n",
       "      <td>17</td>\n",
       "    </tr>\n",
       "    <tr>\n",
       "      <th>9998</th>\n",
       "      <td>299.000000</td>\n",
       "      <td>308.600000</td>\n",
       "      <td>1645</td>\n",
       "      <td>33.400000</td>\n",
       "      <td>22</td>\n",
       "    </tr>\n",
       "    <tr>\n",
       "      <th>9999</th>\n",
       "      <td>299.000000</td>\n",
       "      <td>308.700000</td>\n",
       "      <td>1408</td>\n",
       "      <td>48.500000</td>\n",
       "      <td>25</td>\n",
       "    </tr>\n",
       "    <tr>\n",
       "      <th>10000</th>\n",
       "      <td>299.000000</td>\n",
       "      <td>308.700000</td>\n",
       "      <td>1500</td>\n",
       "      <td>40.200000</td>\n",
       "      <td>30</td>\n",
       "    </tr>\n",
       "  </tbody>\n",
       "</table>\n",
       "<p>10000 rows × 5 columns</p>\n",
       "</div>"
      ],
      "text/plain": [
       "       Air temperature [K]  Process temperature [K]  Rotational speed [rpm]  \\\n",
       "UDI                                                                           \n",
       "1               298.100000               308.600000                    1551   \n",
       "2               298.200000               308.700000                    1408   \n",
       "3               298.100000               308.500000                    1498   \n",
       "4               298.200000               308.600000                    1433   \n",
       "5               298.200000               308.700000                    1408   \n",
       "...                    ...                      ...                     ...   \n",
       "9996            298.800000               308.400000                    1604   \n",
       "9997            298.900000               308.400000                    1632   \n",
       "9998            299.000000               308.600000                    1645   \n",
       "9999            299.000000               308.700000                    1408   \n",
       "10000           299.000000               308.700000                    1500   \n",
       "\n",
       "       Torque [Nm]  Tool wear [min]  \n",
       "UDI                                  \n",
       "1        42.800000                0  \n",
       "2        46.300000                3  \n",
       "3        49.400000                5  \n",
       "4        39.500000                7  \n",
       "5        40.000000                9  \n",
       "...            ...              ...  \n",
       "9996     29.500000               14  \n",
       "9997     31.800000               17  \n",
       "9998     33.400000               22  \n",
       "9999     48.500000               25  \n",
       "10000    40.200000               30  \n",
       "\n",
       "[10000 rows x 5 columns]"
      ]
     },
     "execution_count": 8,
     "metadata": {},
     "output_type": "execute_result"
    }
   ],
   "source": [
    "X"
   ]
  },
  {
   "cell_type": "markdown",
   "id": "30c96fe5-caf6-462b-8ce2-33adb1b264e4",
   "metadata": {
    "tags": []
   },
   "source": [
    "## Scale data"
   ]
  },
  {
   "cell_type": "code",
   "execution_count": 9,
   "id": "537c7736-da2e-4318-9720-31c797c8c7d9",
   "metadata": {},
   "outputs": [],
   "source": [
    "def scale_data(data):\n",
    "    data = data.copy()\n",
    "    return StandardScaler().fit_transform(data)"
   ]
  },
  {
   "cell_type": "code",
   "execution_count": 10,
   "id": "409bcab7-a9d0-4300-b57b-1eb78619f4f2",
   "metadata": {},
   "outputs": [],
   "source": [
    "X_sc = scale_data(X)"
   ]
  },
  {
   "cell_type": "code",
   "execution_count": 11,
   "id": "d8d3a46b-31fa-4267-b79d-43b91d6fc3c8",
   "metadata": {},
   "outputs": [],
   "source": [
    "X_sc = pd.DataFrame(X_sc, index=X.index, columns=X.columns)"
   ]
  },
  {
   "cell_type": "code",
   "execution_count": 12,
   "id": "fc58b36a-e433-4d2a-b057-3d6be281eb01",
   "metadata": {},
   "outputs": [
    {
     "data": {
      "text/html": [
       "<div>\n",
       "<style scoped>\n",
       "    .dataframe tbody tr th:only-of-type {\n",
       "        vertical-align: middle;\n",
       "    }\n",
       "\n",
       "    .dataframe tbody tr th {\n",
       "        vertical-align: top;\n",
       "    }\n",
       "\n",
       "    .dataframe thead th {\n",
       "        text-align: right;\n",
       "    }\n",
       "</style>\n",
       "<table border=\"1\" class=\"dataframe\">\n",
       "  <thead>\n",
       "    <tr style=\"text-align: right;\">\n",
       "      <th></th>\n",
       "      <th>Air temperature [K]</th>\n",
       "      <th>Process temperature [K]</th>\n",
       "      <th>Rotational speed [rpm]</th>\n",
       "      <th>Torque [Nm]</th>\n",
       "      <th>Tool wear [min]</th>\n",
       "    </tr>\n",
       "    <tr>\n",
       "      <th>UDI</th>\n",
       "      <th></th>\n",
       "      <th></th>\n",
       "      <th></th>\n",
       "      <th></th>\n",
       "      <th></th>\n",
       "    </tr>\n",
       "  </thead>\n",
       "  <tbody>\n",
       "    <tr>\n",
       "      <th>1</th>\n",
       "      <td>-0.952389</td>\n",
       "      <td>-0.947360</td>\n",
       "      <td>0.068185</td>\n",
       "      <td>0.282200</td>\n",
       "      <td>-1.695984</td>\n",
       "    </tr>\n",
       "    <tr>\n",
       "      <th>2</th>\n",
       "      <td>-0.902393</td>\n",
       "      <td>-0.879959</td>\n",
       "      <td>-0.729472</td>\n",
       "      <td>0.633308</td>\n",
       "      <td>-1.648852</td>\n",
       "    </tr>\n",
       "    <tr>\n",
       "      <th>3</th>\n",
       "      <td>-0.952389</td>\n",
       "      <td>-1.014761</td>\n",
       "      <td>-0.227450</td>\n",
       "      <td>0.944290</td>\n",
       "      <td>-1.617430</td>\n",
       "    </tr>\n",
       "    <tr>\n",
       "      <th>4</th>\n",
       "      <td>-0.902393</td>\n",
       "      <td>-0.947360</td>\n",
       "      <td>-0.590021</td>\n",
       "      <td>-0.048845</td>\n",
       "      <td>-1.586009</td>\n",
       "    </tr>\n",
       "    <tr>\n",
       "      <th>5</th>\n",
       "      <td>-0.902393</td>\n",
       "      <td>-0.879959</td>\n",
       "      <td>-0.729472</td>\n",
       "      <td>0.001313</td>\n",
       "      <td>-1.554588</td>\n",
       "    </tr>\n",
       "    <tr>\n",
       "      <th>...</th>\n",
       "      <td>...</td>\n",
       "      <td>...</td>\n",
       "      <td>...</td>\n",
       "      <td>...</td>\n",
       "      <td>...</td>\n",
       "    </tr>\n",
       "    <tr>\n",
       "      <th>9996</th>\n",
       "      <td>-0.602417</td>\n",
       "      <td>-1.082162</td>\n",
       "      <td>0.363820</td>\n",
       "      <td>-1.052012</td>\n",
       "      <td>-1.476034</td>\n",
       "    </tr>\n",
       "    <tr>\n",
       "      <th>9997</th>\n",
       "      <td>-0.552421</td>\n",
       "      <td>-1.082162</td>\n",
       "      <td>0.520005</td>\n",
       "      <td>-0.821283</td>\n",
       "      <td>-1.428902</td>\n",
       "    </tr>\n",
       "    <tr>\n",
       "      <th>9998</th>\n",
       "      <td>-0.502425</td>\n",
       "      <td>-0.947360</td>\n",
       "      <td>0.592519</td>\n",
       "      <td>-0.660777</td>\n",
       "      <td>-1.350349</td>\n",
       "    </tr>\n",
       "    <tr>\n",
       "      <th>9999</th>\n",
       "      <td>-0.502425</td>\n",
       "      <td>-0.879959</td>\n",
       "      <td>-0.729472</td>\n",
       "      <td>0.854005</td>\n",
       "      <td>-1.303217</td>\n",
       "    </tr>\n",
       "    <tr>\n",
       "      <th>10000</th>\n",
       "      <td>-0.502425</td>\n",
       "      <td>-0.879959</td>\n",
       "      <td>-0.216294</td>\n",
       "      <td>0.021376</td>\n",
       "      <td>-1.224663</td>\n",
       "    </tr>\n",
       "  </tbody>\n",
       "</table>\n",
       "<p>10000 rows × 5 columns</p>\n",
       "</div>"
      ],
      "text/plain": [
       "       Air temperature [K]  Process temperature [K]  Rotational speed [rpm]  \\\n",
       "UDI                                                                           \n",
       "1                -0.952389                -0.947360                0.068185   \n",
       "2                -0.902393                -0.879959               -0.729472   \n",
       "3                -0.952389                -1.014761               -0.227450   \n",
       "4                -0.902393                -0.947360               -0.590021   \n",
       "5                -0.902393                -0.879959               -0.729472   \n",
       "...                    ...                      ...                     ...   \n",
       "9996             -0.602417                -1.082162                0.363820   \n",
       "9997             -0.552421                -1.082162                0.520005   \n",
       "9998             -0.502425                -0.947360                0.592519   \n",
       "9999             -0.502425                -0.879959               -0.729472   \n",
       "10000            -0.502425                -0.879959               -0.216294   \n",
       "\n",
       "       Torque [Nm]  Tool wear [min]  \n",
       "UDI                                  \n",
       "1         0.282200        -1.695984  \n",
       "2         0.633308        -1.648852  \n",
       "3         0.944290        -1.617430  \n",
       "4        -0.048845        -1.586009  \n",
       "5         0.001313        -1.554588  \n",
       "...            ...              ...  \n",
       "9996     -1.052012        -1.476034  \n",
       "9997     -0.821283        -1.428902  \n",
       "9998     -0.660777        -1.350349  \n",
       "9999      0.854005        -1.303217  \n",
       "10000     0.021376        -1.224663  \n",
       "\n",
       "[10000 rows x 5 columns]"
      ]
     },
     "execution_count": 12,
     "metadata": {},
     "output_type": "execute_result"
    }
   ],
   "source": [
    "X_sc"
   ]
  },
  {
   "cell_type": "markdown",
   "id": "f8929605-55cb-4528-b8e8-07f5eb90f0ac",
   "metadata": {},
   "source": [
    "# Split train and test"
   ]
  },
  {
   "cell_type": "markdown",
   "id": "9e57584f-3c86-4a84-9c95-5a549b04a9ab",
   "metadata": {
    "tags": []
   },
   "source": [
    "## without balancing"
   ]
  },
  {
   "cell_type": "code",
   "execution_count": 13,
   "id": "58c8f760-f3c0-43f1-8428-51e4f8ebf2e2",
   "metadata": {},
   "outputs": [],
   "source": [
    "X_train, X_test, y_train, y_test = train_test_split(X_sc, y, train_size=0.8, random_state=RANDOM_STATE)"
   ]
  },
  {
   "cell_type": "markdown",
   "id": "9d239357-f03d-49e1-bcb7-3ccafd8aa568",
   "metadata": {
    "tags": []
   },
   "source": [
    "## with balancing"
   ]
  },
  {
   "cell_type": "code",
   "execution_count": 14,
   "id": "12e45ed4-905f-4614-bdd1-fc079706292b",
   "metadata": {},
   "outputs": [],
   "source": [
    "data_bal, method = balance_data(X_sc, y, 'ROS')\n",
    "X_bl, y_bl = data_bal"
   ]
  },
  {
   "cell_type": "code",
   "execution_count": 15,
   "id": "bbf007f4-e3ee-4055-97f5-32fc64ae96ca",
   "metadata": {
    "tags": []
   },
   "outputs": [
    {
     "name": "stdout",
     "output_type": "stream",
     "text": [
      "<class 'pandas.core.frame.DataFrame'>\n",
      "RangeIndex: 19322 entries, 0 to 19321\n",
      "Data columns (total 5 columns):\n",
      " #   Column                   Non-Null Count  Dtype  \n",
      "---  ------                   --------------  -----  \n",
      " 0   Air temperature [K]      19322 non-null  float64\n",
      " 1   Process temperature [K]  19322 non-null  float64\n",
      " 2   Rotational speed [rpm]   19322 non-null  float64\n",
      " 3   Torque [Nm]              19322 non-null  float64\n",
      " 4   Tool wear [min]          19322 non-null  float64\n",
      "dtypes: float64(5)\n",
      "memory usage: 754.9 KB\n",
      "None\n",
      "<class 'pandas.core.series.Series'>\n",
      "RangeIndex: 19322 entries, 0 to 19321\n",
      "Series name: Machine failure\n",
      "Non-Null Count  Dtype\n",
      "--------------  -----\n",
      "19322 non-null  int64\n",
      "dtypes: int64(1)\n",
      "memory usage: 151.1 KB\n",
      "None\n"
     ]
    }
   ],
   "source": [
    "print(X_bl.info())\n",
    "print(y_bl.info())"
   ]
  },
  {
   "cell_type": "code",
   "execution_count": 16,
   "id": "1204366d-ad61-4a5b-963c-88a938b50cb8",
   "metadata": {
    "tags": []
   },
   "outputs": [
    {
     "data": {
      "text/plain": [
       "<Axes: >"
      ]
     },
     "execution_count": 16,
     "metadata": {},
     "output_type": "execute_result"
    },
    {
     "data": {
      "image/png": "[encoded data removed]",
      "text/plain": [
       "<Figure size 640x480 with 1 Axes>"
      ]
     },
     "metadata": {},
     "output_type": "display_data"
    }
   ],
   "source": [
    "y_bl.value_counts().plot(kind='bar')"
   ]
  },
  {
   "cell_type": "code",
   "execution_count": 17,
   "id": "93305217-ae05-46c5-9397-c2f7c594cbe3",
   "metadata": {
    "tags": []
   },
   "outputs": [
    {
     "name": "stdout",
     "output_type": "stream",
     "text": [
      "<class 'pandas.core.frame.DataFrame'>\n",
      "RangeIndex: 19322 entries, 0 to 19321\n",
      "Data columns (total 5 columns):\n",
      " #   Column                   Non-Null Count  Dtype  \n",
      "---  ------                   --------------  -----  \n",
      " 0   Air temperature [K]      19322 non-null  float64\n",
      " 1   Process temperature [K]  19322 non-null  float64\n",
      " 2   Rotational speed [rpm]   19322 non-null  float64\n",
      " 3   Torque [Nm]              19322 non-null  float64\n",
      " 4   Tool wear [min]          19322 non-null  float64\n",
      "dtypes: float64(5)\n",
      "memory usage: 754.9 KB\n"
     ]
    }
   ],
   "source": [
    "X_bl.info()"
   ]
  },
  {
   "cell_type": "code",
   "execution_count": 18,
   "id": "ed714493-6540-4eae-a81a-aa6918910836",
   "metadata": {},
   "outputs": [
    {
     "data": {
      "text/html": [
       "<style>#sk-container-id-1 {color: black;background-color: white;}#sk-container-id-1 pre{padding: 0;}#sk-container-id-1 div.sk-toggleable {background-color: white;}#sk-container-id-1 label.sk-toggleable__label {cursor: pointer;display: block;width: 100%;margin-bottom: 0;padding: 0.3em;box-sizing: border-box;text-align: center;}#sk-container-id-1 label.sk-toggleable__label-arrow:before {content: \"▸\";float: left;margin-right: 0.25em;color: #696969;}#sk-container-id-1 label.sk-toggleable__label-arrow:hover:before {color: black;}#sk-container-id-1 div.sk-estimator:hover label.sk-toggleable__label-arrow:before {color: black;}#sk-container-id-1 div.sk-toggleable__content {max-height: 0;max-width: 0;overflow: hidden;text-align: left;background-color: #f0f8ff;}#sk-container-id-1 div.sk-toggleable__content pre {margin: 0.2em;color: black;border-radius: 0.25em;background-color: #f0f8ff;}#sk-container-id-1 input.sk-toggleable__control:checked~div.sk-toggleable__content {max-height: 200px;max-width: 100%;overflow: auto;}#sk-container-id-1 input.sk-toggleable__control:checked~label.sk-toggleable__label-arrow:before {content: \"▾\";}#sk-container-id-1 div.sk-estimator input.sk-toggleable__control:checked~label.sk-toggleable__label {background-color: #d4ebff;}#sk-container-id-1 div.sk-label input.sk-toggleable__control:checked~label.sk-toggleable__label {background-color: #d4ebff;}#sk-container-id-1 input.sk-hidden--visually {border: 0;clip: rect(1px 1px 1px 1px);clip: rect(1px, 1px, 1px, 1px);height: 1px;margin: -1px;overflow: hidden;padding: 0;position: absolute;width: 1px;}#sk-container-id-1 div.sk-estimator {font-family: monospace;background-color: #f0f8ff;border: 1px dotted black;border-radius: 0.25em;box-sizing: border-box;margin-bottom: 0.5em;}#sk-container-id-1 div.sk-estimator:hover {background-color: #d4ebff;}#sk-container-id-1 div.sk-parallel-item::after {content: \"\";width: 100%;border-bottom: 1px solid gray;flex-grow: 1;}#sk-container-id-1 div.sk-label:hover label.sk-toggleable__label {background-color: #d4ebff;}#sk-container-id-1 div.sk-serial::before {content: \"\";position: absolute;border-left: 1px solid gray;box-sizing: border-box;top: 0;bottom: 0;left: 50%;z-index: 0;}#sk-container-id-1 div.sk-serial {display: flex;flex-direction: column;align-items: center;background-color: white;padding-right: 0.2em;padding-left: 0.2em;position: relative;}#sk-container-id-1 div.sk-item {position: relative;z-index: 1;}#sk-container-id-1 div.sk-parallel {display: flex;align-items: stretch;justify-content: center;background-color: white;position: relative;}#sk-container-id-1 div.sk-item::before, #sk-container-id-1 div.sk-parallel-item::before {content: \"\";position: absolute;border-left: 1px solid gray;box-sizing: border-box;top: 0;bottom: 0;left: 50%;z-index: -1;}#sk-container-id-1 div.sk-parallel-item {display: flex;flex-direction: column;z-index: 1;position: relative;background-color: white;}#sk-container-id-1 div.sk-parallel-item:first-child::after {align-self: flex-end;width: 50%;}#sk-container-id-1 div.sk-parallel-item:last-child::after {align-self: flex-start;width: 50%;}#sk-container-id-1 div.sk-parallel-item:only-child::after {width: 0;}#sk-container-id-1 div.sk-dashed-wrapped {border: 1px dashed gray;margin: 0 0.4em 0.5em 0.4em;box-sizing: border-box;padding-bottom: 0.4em;background-color: white;}#sk-container-id-1 div.sk-label label {font-family: monospace;font-weight: bold;display: inline-block;line-height: 1.2em;}#sk-container-id-1 div.sk-label-container {text-align: center;}#sk-container-id-1 div.sk-container {/* jupyter's `normalize.less` sets `[hidden] { display: none; }` but bootstrap.min.css set `[hidden] { display: none !important; }` so we also need the `!important` here to be able to override the default hidden behavior on the sphinx rendered scikit-learn.org. See: https://github.com/scikit-learn/scikit-learn/issues/21755 */display: inline-block !important;position: relative;}#sk-container-id-1 div.sk-text-repr-fallback {display: none;}</style><div id=\"sk-container-id-1\" class=\"sk-top-container\"><div class=\"sk-text-repr-fallback\"><pre>RandomOverSampler()</pre><b>In a Jupyter environment, please rerun this cell to show the HTML representation or trust the notebook. <br />On GitHub, the HTML representation is unable to render, please try loading this page with nbviewer.org.</b></div><div class=\"sk-container\" hidden><div class=\"sk-item\"><div class=\"sk-estimator sk-toggleable\"><input class=\"sk-toggleable__control sk-hidden--visually\" id=\"sk-estimator-id-1\" type=\"checkbox\" checked><label for=\"sk-estimator-id-1\" class=\"sk-toggleable__label sk-toggleable__label-arrow\">RandomOverSampler</label><div class=\"sk-toggleable__content\"><pre>RandomOverSampler()</pre></div></div></div></div></div>"
      ],
      "text/plain": [
       "RandomOverSampler()"
      ]
     },
     "execution_count": 18,
     "metadata": {},
     "output_type": "execute_result"
    }
   ],
   "source": [
    "method"
   ]
  },
  {
   "cell_type": "code",
   "execution_count": 19,
   "id": "a5b0d5b9-aa4f-48d0-b74e-4702c717dd59",
   "metadata": {},
   "outputs": [],
   "source": [
    "balance = True\n",
    "if balance:\n",
    "    X_train, X_test, y_train, y_test = train_test_split(X_bl, y_bl, train_size=0.8, random_state=RANDOM_STATE)"
   ]
  },
  {
   "cell_type": "markdown",
   "id": "9d31d8c4-b107-4f59-8785-487c5a1c47f1",
   "metadata": {
    "tags": []
   },
   "source": [
    "# Baseline model"
   ]
  },
  {
   "cell_type": "code",
   "execution_count": 20,
   "id": "97a521ce-712e-49ea-9432-4b5841117b23",
   "metadata": {},
   "outputs": [],
   "source": [
    "early_stopping = EarlyStopping(\n",
    "    min_delta=0.001, # minimium amount of change to count as an improvement\n",
    "    patience=40, # how many epochs to wait before stopping\n",
    "    restore_best_weights=True,\n",
    ")"
   ]
  },
  {
   "cell_type": "code",
   "execution_count": 21,
   "id": "ab0dbd09-04cb-416a-8c40-e02259bf3f20",
   "metadata": {},
   "outputs": [],
   "source": [
    "input_shape = X.shape[1]"
   ]
  },
  {
   "cell_type": "code",
   "execution_count": 22,
   "id": "d8ef8d9a-6538-4b94-be1f-ee72c10e4260",
   "metadata": {},
   "outputs": [],
   "source": [
    "n_nodes = 512"
   ]
  },
  {
   "cell_type": "code",
   "execution_count": 23,
   "id": "4a72e821-c4af-4941-9941-f0666b807803",
   "metadata": {},
   "outputs": [],
   "source": [
    "n_hidden = 2"
   ]
  },
  {
   "cell_type": "code",
   "execution_count": 24,
   "id": "72f6a9d1-9d15-462e-9e9e-36ca88dac93e",
   "metadata": {},
   "outputs": [],
   "source": [
    "n_epochs = 200"
   ]
  },
  {
   "cell_type": "code",
   "execution_count": 30,
   "id": "9e0dcdcb-3fd3-4f9b-9cbd-00ae80f38312",
   "metadata": {},
   "outputs": [],
   "source": [
    "def run_model(X_train, y_train, X_test, y_test, nnodes, n_hidden, input_shape, n_epochs, batch_size=int(n_nodes/2)):\n",
    "    ''' compute deep learning model(s)'''\n",
    "\n",
    "    model = keras.Sequential([\n",
    "        layers.Dense(nnodes, activation='relu', input_shape=[input_shape]),\n",
    "        layers.Dense(nnodes, activation='relu'),\n",
    "        layers.Dense(nnodes, activation='relu'),\n",
    "        layers.Dense(1, activation='sigmoid'),\n",
    "    ])\n",
    "\n",
    "    model.compile(\n",
    "        optimizer='adam',\n",
    "        loss='binary_crossentropy',\n",
    "        metrics=['binary_accuracy']\n",
    "    )\n",
    "\n",
    "    history = model.fit(\n",
    "        X_train, y_train,\n",
    "        validation_data=(X_test, y_test),\n",
    "        batch_size=batch_size,\n",
    "        epochs=n_epochs,\n",
    "        callbacks=[early_stopping],\n",
    "        verbose=0\n",
    "    )\n",
    "\n",
    "    predictions = model.predict(X_test)\n",
    "    predictions = pd.DataFrame(predictions.round(), index=y_test.index)\n",
    "\n",
    "    return history, predictions"
   ]
  },
  {
   "cell_type": "code",
   "execution_count": 31,
   "id": "7950d07e-548b-4ea3-b33c-e33cc026c12c",
   "metadata": {},
   "outputs": [
    {
     "name": "stdout",
     "output_type": "stream",
     "text": [
      "121/121 [==============================] - 0s 2ms/step\n"
     ]
    }
   ],
   "source": [
    "history, predictions = run_model(X_train, y_train, X_test, y_test, n_nodes, n_hidden, input_shape, n_epochs)\n",
    "\n",
    "history_df = pd.DataFrame(history.history)"
   ]
  },
  {
   "cell_type": "code",
   "execution_count": 33,
   "id": "0c56beb4-8d35-450c-ae30-757f657dbdfa",
   "metadata": {},
   "outputs": [
    {
     "name": "stdout",
     "output_type": "stream",
     "text": [
      "99.43078913324709\n"
     ]
    }
   ],
   "source": [
    "accuracy = accuracy_score(y_test, predictions)\n",
    "print(100*accuracy)"
   ]
  },
  {
   "cell_type": "code",
   "execution_count": 27,
   "id": "b1887248-751d-4fab-ae39-24bdd3c169c3",
   "metadata": {},
   "outputs": [
    {
     "name": "stdout",
     "output_type": "stream",
     "text": [
      "Minimum validation loss: 2.087171%\n",
      "Maximum validation accuracy: 99.508411%\n",
      "Maximum binary accuracy: 99.922365%\n"
     ]
    },
    {
     "data": {
      "image/png": "[encoded data removed]",
      "text/plain": [
       "<Figure size 640x480 with 1 Axes>"
      ]
     },
     "metadata": {},
     "output_type": "display_data"
    },
    {
     "data": {
      "image/png": "[encoded data removed]",
      "text/plain": [
       "<Figure size 640x480 with 1 Axes>"
      ]
     },
     "metadata": {},
     "output_type": "display_data"
    }
   ],
   "source": [
    "# history_df.loc[:, ['loss', 'val_loss']].plot()\n",
    "# plt.ylim([0, 1])\n",
    "history_df.loc[:, ['loss', 'val_loss']].plot()\n",
    "history_df.loc[:, ['binary_accuracy', 'val_binary_accuracy']].plot()\n",
    "print(f\"Minimum validation loss: {history_df['val_loss'].min():.6%}\")\n",
    "print(f\"Maximum validation accuracy: {history_df['val_binary_accuracy'].max():.6%}\")\n",
    "print(f\"Maximum binary accuracy: {history_df['binary_accuracy'].max():.6%}\")"
   ]
  }
 ],
 "metadata": {
  "kernelspec": {
   "display_name": "Python 3 (ipykernel)",
   "language": "python",
   "name": "python3"
  },
  "language_info": {
   "codemirror_mode": {
    "name": "ipython",
    "version": 3
   },
   "file_extension": ".py",
   "mimetype": "text/x-python",
   "name": "python",
   "nbconvert_exporter": "python",
   "pygments_lexer": "ipython3",
   "version": "3.11.3"
  }
 },
 "nbformat": 4,
 "nbformat_minor": 5
}
