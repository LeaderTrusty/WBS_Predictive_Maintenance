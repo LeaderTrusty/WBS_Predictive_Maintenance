{
 "cells": [
  {
   "cell_type": "markdown",
   "id": "80fb3906-866d-45c2-98b2-f46989f57efc",
   "metadata": {},
   "source": [
    "# Import modules"
   ]
  },
  {
   "cell_type": "code",
   "execution_count": 1,
   "id": "cee96d85-ac61-4ddd-9b58-cebc91b1ed58",
   "metadata": {},
   "outputs": [],
   "source": [
    "import pandas as pd\n",
    "from itertools import combinations"
   ]
  },
  {
   "cell_type": "markdown",
   "id": "64596377-6d34-47bf-8aab-ad32efaf8630",
   "metadata": {},
   "source": [
    "# Load data"
   ]
  },
  {
   "cell_type": "code",
   "execution_count": 2,
   "id": "faafdcc9-d601-4438-bcc5-584f03f44777",
   "metadata": {},
   "outputs": [],
   "source": [
    "data = pd.read_csv('../../data/ai4i2020.csv', index_col='UDI')"
   ]
  },
  {
   "cell_type": "markdown",
   "id": "d1ac07ce-ac24-429e-853b-424eadb7c597",
   "metadata": {},
   "source": [
    "# Analysis"
   ]
  },
  {
   "cell_type": "code",
   "execution_count": 3,
   "id": "3408d8a0-67ee-4cbf-a7dc-fbeaf0d4477b",
   "metadata": {},
   "outputs": [
    {
     "data": {
      "text/html": [
       "<div>\n",
       "<style scoped>\n",
       "    .dataframe tbody tr th:only-of-type {\n",
       "        vertical-align: middle;\n",
       "    }\n",
       "\n",
       "    .dataframe tbody tr th {\n",
       "        vertical-align: top;\n",
       "    }\n",
       "\n",
       "    .dataframe thead th {\n",
       "        text-align: right;\n",
       "    }\n",
       "</style>\n",
       "<table border=\"1\" class=\"dataframe\">\n",
       "  <thead>\n",
       "    <tr style=\"text-align: right;\">\n",
       "      <th></th>\n",
       "      <th>Air temperature [K]</th>\n",
       "      <th>Process temperature [K]</th>\n",
       "      <th>Rotational speed [rpm]</th>\n",
       "      <th>Torque [Nm]</th>\n",
       "      <th>Tool wear [min]</th>\n",
       "      <th>Machine failure</th>\n",
       "      <th>TWF</th>\n",
       "      <th>HDF</th>\n",
       "      <th>PWF</th>\n",
       "      <th>OSF</th>\n",
       "      <th>RNF</th>\n",
       "    </tr>\n",
       "  </thead>\n",
       "  <tbody>\n",
       "    <tr>\n",
       "      <th>count</th>\n",
       "      <td>10000.000000</td>\n",
       "      <td>10000.000000</td>\n",
       "      <td>10000.000000</td>\n",
       "      <td>10000.000000</td>\n",
       "      <td>10000.000000</td>\n",
       "      <td>10000.000000</td>\n",
       "      <td>10000.000000</td>\n",
       "      <td>10000.000000</td>\n",
       "      <td>10000.000000</td>\n",
       "      <td>10000.000000</td>\n",
       "      <td>10000.00000</td>\n",
       "    </tr>\n",
       "    <tr>\n",
       "      <th>mean</th>\n",
       "      <td>300.004930</td>\n",
       "      <td>310.005560</td>\n",
       "      <td>1538.776100</td>\n",
       "      <td>39.986910</td>\n",
       "      <td>107.951000</td>\n",
       "      <td>0.033900</td>\n",
       "      <td>0.004600</td>\n",
       "      <td>0.011500</td>\n",
       "      <td>0.009500</td>\n",
       "      <td>0.009800</td>\n",
       "      <td>0.00190</td>\n",
       "    </tr>\n",
       "    <tr>\n",
       "      <th>std</th>\n",
       "      <td>2.000259</td>\n",
       "      <td>1.483734</td>\n",
       "      <td>179.284096</td>\n",
       "      <td>9.968934</td>\n",
       "      <td>63.654147</td>\n",
       "      <td>0.180981</td>\n",
       "      <td>0.067671</td>\n",
       "      <td>0.106625</td>\n",
       "      <td>0.097009</td>\n",
       "      <td>0.098514</td>\n",
       "      <td>0.04355</td>\n",
       "    </tr>\n",
       "    <tr>\n",
       "      <th>min</th>\n",
       "      <td>295.300000</td>\n",
       "      <td>305.700000</td>\n",
       "      <td>1168.000000</td>\n",
       "      <td>3.800000</td>\n",
       "      <td>0.000000</td>\n",
       "      <td>0.000000</td>\n",
       "      <td>0.000000</td>\n",
       "      <td>0.000000</td>\n",
       "      <td>0.000000</td>\n",
       "      <td>0.000000</td>\n",
       "      <td>0.00000</td>\n",
       "    </tr>\n",
       "    <tr>\n",
       "      <th>25%</th>\n",
       "      <td>298.300000</td>\n",
       "      <td>308.800000</td>\n",
       "      <td>1423.000000</td>\n",
       "      <td>33.200000</td>\n",
       "      <td>53.000000</td>\n",
       "      <td>0.000000</td>\n",
       "      <td>0.000000</td>\n",
       "      <td>0.000000</td>\n",
       "      <td>0.000000</td>\n",
       "      <td>0.000000</td>\n",
       "      <td>0.00000</td>\n",
       "    </tr>\n",
       "    <tr>\n",
       "      <th>50%</th>\n",
       "      <td>300.100000</td>\n",
       "      <td>310.100000</td>\n",
       "      <td>1503.000000</td>\n",
       "      <td>40.100000</td>\n",
       "      <td>108.000000</td>\n",
       "      <td>0.000000</td>\n",
       "      <td>0.000000</td>\n",
       "      <td>0.000000</td>\n",
       "      <td>0.000000</td>\n",
       "      <td>0.000000</td>\n",
       "      <td>0.00000</td>\n",
       "    </tr>\n",
       "    <tr>\n",
       "      <th>75%</th>\n",
       "      <td>301.500000</td>\n",
       "      <td>311.100000</td>\n",
       "      <td>1612.000000</td>\n",
       "      <td>46.800000</td>\n",
       "      <td>162.000000</td>\n",
       "      <td>0.000000</td>\n",
       "      <td>0.000000</td>\n",
       "      <td>0.000000</td>\n",
       "      <td>0.000000</td>\n",
       "      <td>0.000000</td>\n",
       "      <td>0.00000</td>\n",
       "    </tr>\n",
       "    <tr>\n",
       "      <th>max</th>\n",
       "      <td>304.500000</td>\n",
       "      <td>313.800000</td>\n",
       "      <td>2886.000000</td>\n",
       "      <td>76.600000</td>\n",
       "      <td>253.000000</td>\n",
       "      <td>1.000000</td>\n",
       "      <td>1.000000</td>\n",
       "      <td>1.000000</td>\n",
       "      <td>1.000000</td>\n",
       "      <td>1.000000</td>\n",
       "      <td>1.00000</td>\n",
       "    </tr>\n",
       "  </tbody>\n",
       "</table>\n",
       "</div>"
      ],
      "text/plain": [
       "       Air temperature [K]  Process temperature [K]  Rotational speed [rpm]  \\\n",
       "count         10000.000000             10000.000000            10000.000000   \n",
       "mean            300.004930               310.005560             1538.776100   \n",
       "std               2.000259                 1.483734              179.284096   \n",
       "min             295.300000               305.700000             1168.000000   \n",
       "25%             298.300000               308.800000             1423.000000   \n",
       "50%             300.100000               310.100000             1503.000000   \n",
       "75%             301.500000               311.100000             1612.000000   \n",
       "max             304.500000               313.800000             2886.000000   \n",
       "\n",
       "        Torque [Nm]  Tool wear [min]  Machine failure           TWF  \\\n",
       "count  10000.000000     10000.000000     10000.000000  10000.000000   \n",
       "mean      39.986910       107.951000         0.033900      0.004600   \n",
       "std        9.968934        63.654147         0.180981      0.067671   \n",
       "min        3.800000         0.000000         0.000000      0.000000   \n",
       "25%       33.200000        53.000000         0.000000      0.000000   \n",
       "50%       40.100000       108.000000         0.000000      0.000000   \n",
       "75%       46.800000       162.000000         0.000000      0.000000   \n",
       "max       76.600000       253.000000         1.000000      1.000000   \n",
       "\n",
       "                HDF           PWF           OSF          RNF  \n",
       "count  10000.000000  10000.000000  10000.000000  10000.00000  \n",
       "mean       0.011500      0.009500      0.009800      0.00190  \n",
       "std        0.106625      0.097009      0.098514      0.04355  \n",
       "min        0.000000      0.000000      0.000000      0.00000  \n",
       "25%        0.000000      0.000000      0.000000      0.00000  \n",
       "50%        0.000000      0.000000      0.000000      0.00000  \n",
       "75%        0.000000      0.000000      0.000000      0.00000  \n",
       "max        1.000000      1.000000      1.000000      1.00000  "
      ]
     },
     "execution_count": 3,
     "metadata": {},
     "output_type": "execute_result"
    }
   ],
   "source": [
    "data.describe()"
   ]
  },
  {
   "cell_type": "code",
   "execution_count": 3,
   "id": "23fb1ff6-7a38-4172-8ee4-83271b1c97ba",
   "metadata": {},
   "outputs": [
    {
     "data": {
      "text/plain": [
       "0    9661\n",
       "1     339\n",
       "Name: Machine failure, dtype: int64"
      ]
     },
     "execution_count": 3,
     "metadata": {},
     "output_type": "execute_result"
    }
   ],
   "source": [
    "data['Machine failure'].value_counts()"
   ]
  },
  {
   "cell_type": "code",
   "execution_count": 4,
   "id": "04e8db5a-4787-4e77-be43-affcc8f449c8",
   "metadata": {},
   "outputs": [
    {
     "data": {
      "text/plain": [
       "0    9652\n",
       "1     324\n",
       "2      23\n",
       "3       1\n",
       "dtype: int64"
      ]
     },
     "execution_count": 4,
     "metadata": {},
     "output_type": "execute_result"
    }
   ],
   "source": [
    "# multiple failures\n",
    "fails = data['TWF'] + data['HDF'] + data['PWF'] + data['OSF'] + data['RNF']\n",
    "fails.value_counts()"
   ]
  },
  {
   "cell_type": "code",
   "execution_count": 5,
   "id": "fac01044-5ba7-4669-b86a-1a143ead5680",
   "metadata": {
    "jupyter": {
     "source_hidden": true
    },
    "tags": []
   },
   "outputs": [],
   "source": [
    "# data.iloc[:, -5:].sum()"
   ]
  },
  {
   "cell_type": "code",
   "execution_count": 6,
   "id": "b7d1e86e-b24d-4b33-983e-05e907bc8054",
   "metadata": {
    "jupyter": {
     "source_hidden": true
    },
    "tags": []
   },
   "outputs": [],
   "source": [
    "# data.iloc[:, -5:].sum().sum()"
   ]
  },
  {
   "cell_type": "code",
   "execution_count": 7,
   "id": "0103add5-5a92-46a0-a7a7-9643c72c6a5e",
   "metadata": {},
   "outputs": [],
   "source": [
    "# possible failure modes\n",
    "failures = ['TWF', 'HDF', 'PWF', 'OSF', 'RNF']\n",
    "combis2 = combinations(failures, 2)\n",
    "combis3 = combinations(failures, 3)"
   ]
  },
  {
   "cell_type": "code",
   "execution_count": 8,
   "id": "aac7df5d-e5b7-4865-be9e-4d2cbaae9ab0",
   "metadata": {},
   "outputs": [
    {
     "name": "stdout",
     "output_type": "stream",
     "text": [
      "TWF - 46\n",
      "HDF - 115\n",
      "PWF - 95\n",
      "OSF - 98\n",
      "RNF - 19\n",
      "total - 373\n"
     ]
    }
   ],
   "source": [
    "total = 0\n",
    "for fm in failures:\n",
    "    cur = [i for i in failures if (i != fm)]\n",
    "    idx = data[data[fm] == 1]\n",
    "    total += idx[idx[cur] == 0].shape[0]\n",
    "    print(f'{fm} - {idx[idx[cur] == 0].shape[0]}')\n",
    "print(f'total - {total}')"
   ]
  },
  {
   "cell_type": "code",
   "execution_count": 9,
   "id": "5e54ad6e-cfa3-4289-8be5-77aecf43cdf4",
   "metadata": {},
   "outputs": [
    {
     "name": "stdout",
     "output_type": "stream",
     "text": [
      "combination - # of combined failures - sum of MF column\n",
      "('TWF', 'HDF') - 0 - 0\n",
      "('TWF', 'PWF') - 1 - 1\n",
      "('TWF', 'OSF') - 3 - 3\n",
      "('TWF', 'RNF') - 1 - 1\n",
      "('HDF', 'PWF') - 3 - 3\n",
      "('HDF', 'OSF') - 6 - 6\n",
      "('HDF', 'RNF') - 0 - 0\n",
      "('PWF', 'OSF') - 12 - 12\n",
      "('PWF', 'RNF') - 0 - 0\n",
      "('OSF', 'RNF') - 0 - 0\n",
      "total - 26\n"
     ]
    }
   ],
   "source": [
    "print('combination - # of combined failures - sum of MF column')\n",
    "total = 0\n",
    "for c2 in combis2:\n",
    "    out = data.loc[(data[c2[0]] == 1) & (data[c2[1]] == 1)].copy()\n",
    "    out_s = out.shape[0]\n",
    "    total += out_s\n",
    "    print(f'{c2} - {out_s} - {out[\"Machine failure\"].sum()}')\n",
    "print(f'total - {total}')"
   ]
  },
  {
   "cell_type": "code",
   "execution_count": 10,
   "id": "bc70c4ac-d7e6-41b3-a1b9-908e8c484ff4",
   "metadata": {},
   "outputs": [
    {
     "name": "stdout",
     "output_type": "stream",
     "text": [
      "('TWF', 'HDF', 'PWF') - 0 - 0\n",
      "('TWF', 'HDF', 'OSF') - 0 - 0\n",
      "('TWF', 'HDF', 'RNF') - 0 - 0\n",
      "('TWF', 'PWF', 'OSF') - 1 - 1\n",
      "('TWF', 'PWF', 'RNF') - 0 - 0\n",
      "('TWF', 'OSF', 'RNF') - 0 - 0\n",
      "('HDF', 'PWF', 'OSF') - 0 - 0\n",
      "('HDF', 'PWF', 'RNF') - 0 - 0\n",
      "('HDF', 'OSF', 'RNF') - 0 - 0\n",
      "('PWF', 'OSF', 'RNF') - 0 - 0\n",
      "total - 1\n"
     ]
    }
   ],
   "source": [
    "total = 0\n",
    "for c3 in combis3:\n",
    "    out = data.loc[(data[c3[0]] == 1) & (data[c3[1]] == 1) & (data[c3[2]] == 1)].copy()\n",
    "    out_s = out.shape[0]\n",
    "    total += out_s\n",
    "    print(f'{c3} - {out_s} - {out[\"Machine failure\"].sum()}')\n",
    "print(f'total - {total}')"
   ]
  },
  {
   "cell_type": "markdown",
   "id": "1a02ed59-e568-4359-9189-1033b272d32a",
   "metadata": {},
   "source": [
    "# Cleaning"
   ]
  },
  {
   "cell_type": "code",
   "execution_count": 11,
   "id": "07d9d968-5180-42ef-8f2c-7747e436b4f7",
   "metadata": {},
   "outputs": [],
   "source": [
    "def clean_data(data, drop_type=True, encode_mf=False):\n",
    "    ''' clean the data '''\n",
    "\n",
    "    if drop_type:\n",
    "        data.drop(columns='Type', inplace=True)\n",
    "\n",
    "    if encode_mf:\n",
    "        # needs improvement because of multiple failure modes\n",
    "        # from itertools import combinations, permutations\n",
    "        # failures = ['TWF', 'HDF', 'PWF', 'OSF', 'RNF']\n",
    "        # list(permutations(failures, 2))\n",
    "        data['Machine failure'] = 0\n",
    "        data['Machine failure'][data['TWF'] == 1] = 1\n",
    "        data['Machine failure'][data['HDF'] == 1] = 2\n",
    "        data['Machine failure'][data['PWF'] == 1] = 3\n",
    "        data['Machine failure'][data['OSF'] == 1] = 4\n",
    "        data['Machine failure'][data['RNF'] == 1] = 5\n",
    "\n",
    "    data.drop(columns=['Product ID', 'TWF', 'HDF', 'PWF', 'OSF', 'RNF'], inplace=True)\n",
    "\n",
    "    return data"
   ]
  }
 ],
 "metadata": {
  "kernelspec": {
   "display_name": "Python 3 (ipykernel)",
   "language": "python",
   "name": "python3"
  },
  "language_info": {
   "codemirror_mode": {
    "name": "ipython",
    "version": 3
   },
   "file_extension": ".py",
   "mimetype": "text/x-python",
   "name": "python",
   "nbconvert_exporter": "python",
   "pygments_lexer": "ipython3",
   "version": "3.11.3"
  }
 },
 "nbformat": 4,
 "nbformat_minor": 5
}
