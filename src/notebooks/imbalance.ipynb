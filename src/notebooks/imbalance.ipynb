{
 "cells": [
  {
   "cell_type": "markdown",
   "id": "80fb3906-866d-45c2-98b2-f46989f57efc",
   "metadata": {},
   "source": [
    "# Import modules"
   ]
  },
  {
   "cell_type": "code",
   "execution_count": null,
   "id": "cee96d85-ac61-4ddd-9b58-cebc91b1ed58",
   "metadata": {},
   "outputs": [],
   "source": [
    "import pandas as pd\n",
    "from imblearn.under_sampling import RandomUnderSampler, TomekLinks, NearMiss\n",
    "from imblearn.over_sampling  import RandomOverSampler, SMOTE\n",
    "from imblearn.combine        import SMOTEENN, SMOTETomek\n",
    "\n",
    "import seaborn as sns"
   ]
  },
  {
   "cell_type": "code",
   "execution_count": null,
   "id": "29a8919a-eee4-4dea-a99c-f85f53592b5c",
   "metadata": {},
   "outputs": [],
   "source": [
    "RANDOM_STATE = 123"
   ]
  },
  {
   "cell_type": "markdown",
   "id": "64596377-6d34-47bf-8aab-ad32efaf8630",
   "metadata": {},
   "source": [
    "# Load data"
   ]
  },
  {
   "cell_type": "code",
   "execution_count": null,
   "id": "faafdcc9-d601-4438-bcc5-584f03f44777",
   "metadata": {},
   "outputs": [],
   "source": [
    "data = pd.read_csv('../../data/ai4i2020.csv', index_col='UDI')"
   ]
  },
  {
   "cell_type": "markdown",
   "id": "78301cf1-7d16-4f88-abee-1bd35f55dbea",
   "metadata": {},
   "source": [
    "# Clean data"
   ]
  },
  {
   "cell_type": "code",
   "execution_count": null,
   "id": "51aaacd2-3e82-4329-85b1-1d3d34dc3879",
   "metadata": {},
   "outputs": [],
   "source": [
    "def clean_data(data, drop_type=True, encode_mf=False):\n",
    "    ''' clean the data '''\n",
    "\n",
    "    if drop_type:\n",
    "        data.drop(columns='Type', inplace=True)\n",
    "\n",
    "    if encode_mf:\n",
    "        # needs improvement because of multiple failure modes\n",
    "        # from itertools import combinations, permutations\n",
    "        # failures = ['TWF', 'HDF', 'PWF', 'OSF', 'RNF']\n",
    "        # list(permutations(failures, 2))\n",
    "        data['Machine failure'] = 0\n",
    "        data['Machine failure'][data['TWF'] == 1] = 1\n",
    "        data['Machine failure'][data['HDF'] == 1] = 2\n",
    "        data['Machine failure'][data['PWF'] == 1] = 3\n",
    "        data['Machine failure'][data['OSF'] == 1] = 4\n",
    "        data['Machine failure'][data['RNF'] == 1] = 5\n",
    "\n",
    "    data.drop(columns=['Product ID', 'TWF', 'HDF', 'PWF', 'OSF', 'RNF'], inplace=True)\n",
    "\n",
    "    return data"
   ]
  },
  {
   "cell_type": "code",
   "execution_count": null,
   "id": "c06e94b1-9dbc-4f44-8a6a-bfb351d5c0f1",
   "metadata": {},
   "outputs": [],
   "source": [
    "data = clean_data(data)"
   ]
  },
  {
   "cell_type": "code",
   "execution_count": null,
   "id": "12cc8067-fdd9-41c2-9884-dc62e5185d87",
   "metadata": {},
   "outputs": [],
   "source": [
    "X = data.copy()\n",
    "y = X.pop('Machine failure')"
   ]
  },
  {
   "cell_type": "code",
   "execution_count": null,
   "id": "26f32ba3-ad3c-47b1-b3ed-cf78c97b2679",
   "metadata": {},
   "outputs": [],
   "source": [
    "y.value_counts().plot(kind='bar')"
   ]
  },
  {
   "cell_type": "markdown",
   "id": "d1ac07ce-ac24-429e-853b-424eadb7c597",
   "metadata": {},
   "source": [
    "# Imbalance"
   ]
  },
  {
   "cell_type": "code",
   "execution_count": null,
   "id": "23fb1ff6-7a38-4172-8ee4-83271b1c97ba",
   "metadata": {},
   "outputs": [],
   "source": [
    "data['Machine failure'].value_counts()"
   ]
  },
  {
   "cell_type": "markdown",
   "id": "cdb5284d-72fa-4b95-b0eb-fdc52b749713",
   "metadata": {},
   "source": [
    "## Under-sampling"
   ]
  },
  {
   "cell_type": "code",
   "execution_count": null,
   "id": "1cf75080-20fb-49ea-a41e-339809346322",
   "metadata": {},
   "outputs": [],
   "source": [
    "rus = RandomUnderSampler(random_state=RANDOM_STATE, replacement=True)\n",
    "X_rus, y_rus = rus.fit_resample(X, y)"
   ]
  },
  {
   "cell_type": "code",
   "execution_count": null,
   "id": "cd6897be-4e06-458e-b8fd-19004c261509",
   "metadata": {},
   "outputs": [],
   "source": [
    "y_rus.value_counts().plot(kind='bar')"
   ]
  },
  {
   "cell_type": "markdown",
   "id": "267e3c8d-4c0b-42b8-99f3-8ee7a7270133",
   "metadata": {},
   "source": [
    "## Tomek"
   ]
  },
  {
   "cell_type": "code",
   "execution_count": null,
   "id": "230a097d-fde2-4198-90e8-eb20be3c9248",
   "metadata": {},
   "outputs": [],
   "source": [
    "tomek = TomekLinks(sampling_strategy='majority')\n",
    "X_tom, y_tom = tomek.fit_resample(X, y)"
   ]
  },
  {
   "cell_type": "code",
   "execution_count": null,
   "id": "6ed270a3-46db-4a59-b561-9f8230dfe66f",
   "metadata": {},
   "outputs": [],
   "source": [
    "y_tom.value_counts().plot(kind='bar')"
   ]
  },
  {
   "cell_type": "markdown",
   "id": "0a22b16a-a2d8-46f2-a165-afd2fca62da3",
   "metadata": {},
   "source": [
    "## NearMiss"
   ]
  },
  {
   "cell_type": "code",
   "execution_count": null,
   "id": "ed0350d7-eff2-4822-93f2-807ebf445fa0",
   "metadata": {},
   "outputs": [],
   "source": [
    "near = NearMiss()\n",
    "X_near, y_near = near.fit_resample(X, y)"
   ]
  },
  {
   "cell_type": "code",
   "execution_count": null,
   "id": "dc187e79-6348-4f77-8b3b-beebfc9b54d4",
   "metadata": {},
   "outputs": [],
   "source": [
    "y_near.value_counts().plot(kind='bar')"
   ]
  },
  {
   "cell_type": "markdown",
   "id": "e792c11e-5921-49d9-9698-3ae3336b6f24",
   "metadata": {},
   "source": [
    "## Over-sampling"
   ]
  },
  {
   "cell_type": "code",
   "execution_count": null,
   "id": "4988c656-ff99-48c3-bcb1-6af57e510d95",
   "metadata": {},
   "outputs": [],
   "source": [
    "ros = RandomOverSampler(random_state=RANDOM_STATE)\n",
    "X_ros, y_ros = ros.fit_resample(X, y)"
   ]
  },
  {
   "cell_type": "code",
   "execution_count": null,
   "id": "96e3ea0d-2b5d-4743-b11f-8a5971f55d59",
   "metadata": {},
   "outputs": [],
   "source": [
    "y_ros.value_counts().plot(kind='bar')"
   ]
  },
  {
   "cell_type": "markdown",
   "id": "73bb799d-0966-4a43-92a7-fed754aa7e1a",
   "metadata": {},
   "source": [
    "## SMOTE"
   ]
  },
  {
   "cell_type": "code",
   "execution_count": null,
   "id": "69acd1db-e297-4139-b3a5-c7fd14be5325",
   "metadata": {},
   "outputs": [],
   "source": [
    "smote = SMOTE(random_state=RANDOM_STATE)\n",
    "X_smo, y_smo = smote.fit_resample(X, y)"
   ]
  },
  {
   "cell_type": "code",
   "execution_count": null,
   "id": "0991b670-c79b-4788-b909-4b94b6ed4b82",
   "metadata": {},
   "outputs": [],
   "source": [
    "y_smo.value_counts().plot(kind='bar')"
   ]
  },
  {
   "cell_type": "markdown",
   "id": "1a02ed59-e568-4359-9189-1033b272d32a",
   "metadata": {},
   "source": [
    "# Function"
   ]
  },
  {
   "cell_type": "code",
   "execution_count": null,
   "id": "07d9d968-5180-42ef-8f2c-7747e436b4f7",
   "metadata": {},
   "outputs": [],
   "source": [
    "def imbalance(X, y, method='RUS'):\n",
    "    ''' fix class imbalance '''\n",
    "\n",
    "    if (method == 'RUS'):\n",
    "        return RandomUnderSampler().fit_resample(X, y), RandomUnderSampler()\n",
    "    elif (method == 'Tomek'):\n",
    "        return TomekLinks().fit_resample(X, y), TomekLinks()\n",
    "    elif (method == 'NearMiss'):\n",
    "        return NearMiss().fit_resample(X, y), NearMiss()\n",
    "    elif (method == 'ROS'):\n",
    "        return RandomOverSampler().fit_resample(X, y), RandomOverSampler()\n",
    "    elif (method == 'SMOTE'):\n",
    "        return SMOTE().fit_resample(X, y), SMOTE()\n",
    "    elif (method == 'SMOTEENN'):\n",
    "        return SMOTEENN().fit_resample(X, y), SMOTEENN()\n",
    "    elif (method == 'SMOTETomek'):\n",
    "        return SMOTETomek().fit_resample(X, y), SMOTETomek()"
   ]
  },
  {
   "cell_type": "code",
   "execution_count": null,
   "id": "8b79f47a-d589-4c13-a14b-76e435dfb016",
   "metadata": {},
   "outputs": [],
   "source": [
    "data_bal, _ = imbalance(X, y, method='SMOTETomek')\n",
    "X_b, y_b = data_bal\n",
    "y_b.value_counts().plot(kind='bar')"
   ]
  },
  {
   "cell_type": "code",
   "execution_count": null,
   "id": "df266745-0fa9-43f5-bea2-df033255ea9e",
   "metadata": {},
   "outputs": [],
   "source": []
  }
 ],
 "metadata": {
  "kernelspec": {
   "display_name": "Python 3 (ipykernel)",
   "language": "python",
   "name": "python3"
  },
  "language_info": {
   "codemirror_mode": {
    "name": "ipython",
    "version": 3
   },
   "file_extension": ".py",
   "mimetype": "text/x-python",
   "name": "python",
   "nbconvert_exporter": "python",
   "pygments_lexer": "ipython3",
   "version": "3.11.3"
  }
 },
 "nbformat": 4,
 "nbformat_minor": 5
}
