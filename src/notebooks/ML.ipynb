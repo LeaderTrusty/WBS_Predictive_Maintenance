{
 "cells": [
  {
   "cell_type": "markdown",
   "id": "a51cf900-955f-42b3-a035-3e019d8bb2f4",
   "metadata": {
    "tags": []
   },
   "source": [
    "# Import modules"
   ]
  },
  {
   "cell_type": "code",
   "execution_count": 55,
   "id": "b3bda564-a6ea-4a9e-b531-246058031362",
   "metadata": {},
   "outputs": [],
   "source": [
    "import pandas as pd\n",
    "import joblib\n",
    "\n",
    "# our modules\n",
    "import sys\n",
    "sys.path.insert(0, '..')\n",
    "\n",
    "# user defined\n",
    "from clean import clean_data\n",
    "from imbalance import balance_data\n",
    "from evaluate import evaluate_model\n",
    "\n",
    "# preprocessing\n",
    "from sklearn.preprocessing import MinMaxScaler, StandardScaler, RobustScaler\n",
    "from sklearn.model_selection import train_test_split, GridSearchCV\n",
    "\n",
    "# Classifiers\n",
    "from sklearn.svm import SVC\n",
    "from sklearn.tree import DecisionTreeClassifier, export_graphviz\n",
    "from sklearn.ensemble import RandomForestClassifier, BaggingClassifier, ExtraTreesClassifier\n",
    "from xgboost import XGBClassifier\n",
    "\n",
    "# pipeline\n",
    "from sklearn.pipeline import Pipeline\n",
    "\n",
    "from sklearn.metrics import accuracy_score, roc_auc_score, r2_score, recall_score, precision_score, f1_score, matthews_corrcoef, confusion_matrix\n",
    "\n",
    "from lazypredict.Supervised import LazyClassifier\n",
    "import matplotlib.pyplot as plt\n",
    "import seaborn as sns\n",
    "import graphviz"
   ]
  },
  {
   "cell_type": "code",
   "execution_count": 2,
   "id": "28c3395f-405f-47c7-8df1-0ea1283a4fa1",
   "metadata": {},
   "outputs": [],
   "source": [
    "pd.set_option(\"display.precision\", 6)\n",
    "pd.set_option(\"display.float_format\", lambda x: \"%.6f\" % x)"
   ]
  },
  {
   "cell_type": "code",
   "execution_count": 3,
   "id": "bf7a01f4-8746-4fcf-8f6d-d45730525e25",
   "metadata": {},
   "outputs": [],
   "source": [
    "RANDOM_STATE = 123"
   ]
  },
  {
   "cell_type": "markdown",
   "id": "bcde475b-e857-4b00-87de-343d1d45dc00",
   "metadata": {},
   "source": [
    "# Load data"
   ]
  },
  {
   "cell_type": "code",
   "execution_count": 4,
   "id": "5c758039-6f01-4249-b00d-6dde9e46614b",
   "metadata": {},
   "outputs": [],
   "source": [
    "data = pd.read_csv('/home/hristo/Documents/WBS_Data_Science/WBS_Predictive_Maintenance/data/ai4i2020.csv', index_col='UDI')"
   ]
  },
  {
   "cell_type": "code",
   "execution_count": 5,
   "id": "71668fcd-1e73-495f-986e-13f3d6cb010a",
   "metadata": {},
   "outputs": [
    {
     "data": {
      "text/html": [
       "<div>\n",
       "<style scoped>\n",
       "    .dataframe tbody tr th:only-of-type {\n",
       "        vertical-align: middle;\n",
       "    }\n",
       "\n",
       "    .dataframe tbody tr th {\n",
       "        vertical-align: top;\n",
       "    }\n",
       "\n",
       "    .dataframe thead th {\n",
       "        text-align: right;\n",
       "    }\n",
       "</style>\n",
       "<table border=\"1\" class=\"dataframe\">\n",
       "  <thead>\n",
       "    <tr style=\"text-align: right;\">\n",
       "      <th></th>\n",
       "      <th>Product ID</th>\n",
       "      <th>Type</th>\n",
       "      <th>Air temperature [K]</th>\n",
       "      <th>Process temperature [K]</th>\n",
       "      <th>Rotational speed [rpm]</th>\n",
       "      <th>Torque [Nm]</th>\n",
       "      <th>Tool wear [min]</th>\n",
       "      <th>Machine failure</th>\n",
       "      <th>TWF</th>\n",
       "      <th>HDF</th>\n",
       "      <th>PWF</th>\n",
       "      <th>OSF</th>\n",
       "      <th>RNF</th>\n",
       "    </tr>\n",
       "    <tr>\n",
       "      <th>UDI</th>\n",
       "      <th></th>\n",
       "      <th></th>\n",
       "      <th></th>\n",
       "      <th></th>\n",
       "      <th></th>\n",
       "      <th></th>\n",
       "      <th></th>\n",
       "      <th></th>\n",
       "      <th></th>\n",
       "      <th></th>\n",
       "      <th></th>\n",
       "      <th></th>\n",
       "      <th></th>\n",
       "    </tr>\n",
       "  </thead>\n",
       "  <tbody>\n",
       "    <tr>\n",
       "      <th>1</th>\n",
       "      <td>M14860</td>\n",
       "      <td>M</td>\n",
       "      <td>298.100000</td>\n",
       "      <td>308.600000</td>\n",
       "      <td>1551</td>\n",
       "      <td>42.800000</td>\n",
       "      <td>0</td>\n",
       "      <td>0</td>\n",
       "      <td>0</td>\n",
       "      <td>0</td>\n",
       "      <td>0</td>\n",
       "      <td>0</td>\n",
       "      <td>0</td>\n",
       "    </tr>\n",
       "    <tr>\n",
       "      <th>2</th>\n",
       "      <td>L47181</td>\n",
       "      <td>L</td>\n",
       "      <td>298.200000</td>\n",
       "      <td>308.700000</td>\n",
       "      <td>1408</td>\n",
       "      <td>46.300000</td>\n",
       "      <td>3</td>\n",
       "      <td>0</td>\n",
       "      <td>0</td>\n",
       "      <td>0</td>\n",
       "      <td>0</td>\n",
       "      <td>0</td>\n",
       "      <td>0</td>\n",
       "    </tr>\n",
       "    <tr>\n",
       "      <th>3</th>\n",
       "      <td>L47182</td>\n",
       "      <td>L</td>\n",
       "      <td>298.100000</td>\n",
       "      <td>308.500000</td>\n",
       "      <td>1498</td>\n",
       "      <td>49.400000</td>\n",
       "      <td>5</td>\n",
       "      <td>0</td>\n",
       "      <td>0</td>\n",
       "      <td>0</td>\n",
       "      <td>0</td>\n",
       "      <td>0</td>\n",
       "      <td>0</td>\n",
       "    </tr>\n",
       "    <tr>\n",
       "      <th>4</th>\n",
       "      <td>L47183</td>\n",
       "      <td>L</td>\n",
       "      <td>298.200000</td>\n",
       "      <td>308.600000</td>\n",
       "      <td>1433</td>\n",
       "      <td>39.500000</td>\n",
       "      <td>7</td>\n",
       "      <td>0</td>\n",
       "      <td>0</td>\n",
       "      <td>0</td>\n",
       "      <td>0</td>\n",
       "      <td>0</td>\n",
       "      <td>0</td>\n",
       "    </tr>\n",
       "    <tr>\n",
       "      <th>5</th>\n",
       "      <td>L47184</td>\n",
       "      <td>L</td>\n",
       "      <td>298.200000</td>\n",
       "      <td>308.700000</td>\n",
       "      <td>1408</td>\n",
       "      <td>40.000000</td>\n",
       "      <td>9</td>\n",
       "      <td>0</td>\n",
       "      <td>0</td>\n",
       "      <td>0</td>\n",
       "      <td>0</td>\n",
       "      <td>0</td>\n",
       "      <td>0</td>\n",
       "    </tr>\n",
       "    <tr>\n",
       "      <th>...</th>\n",
       "      <td>...</td>\n",
       "      <td>...</td>\n",
       "      <td>...</td>\n",
       "      <td>...</td>\n",
       "      <td>...</td>\n",
       "      <td>...</td>\n",
       "      <td>...</td>\n",
       "      <td>...</td>\n",
       "      <td>...</td>\n",
       "      <td>...</td>\n",
       "      <td>...</td>\n",
       "      <td>...</td>\n",
       "      <td>...</td>\n",
       "    </tr>\n",
       "    <tr>\n",
       "      <th>9996</th>\n",
       "      <td>M24855</td>\n",
       "      <td>M</td>\n",
       "      <td>298.800000</td>\n",
       "      <td>308.400000</td>\n",
       "      <td>1604</td>\n",
       "      <td>29.500000</td>\n",
       "      <td>14</td>\n",
       "      <td>0</td>\n",
       "      <td>0</td>\n",
       "      <td>0</td>\n",
       "      <td>0</td>\n",
       "      <td>0</td>\n",
       "      <td>0</td>\n",
       "    </tr>\n",
       "    <tr>\n",
       "      <th>9997</th>\n",
       "      <td>H39410</td>\n",
       "      <td>H</td>\n",
       "      <td>298.900000</td>\n",
       "      <td>308.400000</td>\n",
       "      <td>1632</td>\n",
       "      <td>31.800000</td>\n",
       "      <td>17</td>\n",
       "      <td>0</td>\n",
       "      <td>0</td>\n",
       "      <td>0</td>\n",
       "      <td>0</td>\n",
       "      <td>0</td>\n",
       "      <td>0</td>\n",
       "    </tr>\n",
       "    <tr>\n",
       "      <th>9998</th>\n",
       "      <td>M24857</td>\n",
       "      <td>M</td>\n",
       "      <td>299.000000</td>\n",
       "      <td>308.600000</td>\n",
       "      <td>1645</td>\n",
       "      <td>33.400000</td>\n",
       "      <td>22</td>\n",
       "      <td>0</td>\n",
       "      <td>0</td>\n",
       "      <td>0</td>\n",
       "      <td>0</td>\n",
       "      <td>0</td>\n",
       "      <td>0</td>\n",
       "    </tr>\n",
       "    <tr>\n",
       "      <th>9999</th>\n",
       "      <td>H39412</td>\n",
       "      <td>H</td>\n",
       "      <td>299.000000</td>\n",
       "      <td>308.700000</td>\n",
       "      <td>1408</td>\n",
       "      <td>48.500000</td>\n",
       "      <td>25</td>\n",
       "      <td>0</td>\n",
       "      <td>0</td>\n",
       "      <td>0</td>\n",
       "      <td>0</td>\n",
       "      <td>0</td>\n",
       "      <td>0</td>\n",
       "    </tr>\n",
       "    <tr>\n",
       "      <th>10000</th>\n",
       "      <td>M24859</td>\n",
       "      <td>M</td>\n",
       "      <td>299.000000</td>\n",
       "      <td>308.700000</td>\n",
       "      <td>1500</td>\n",
       "      <td>40.200000</td>\n",
       "      <td>30</td>\n",
       "      <td>0</td>\n",
       "      <td>0</td>\n",
       "      <td>0</td>\n",
       "      <td>0</td>\n",
       "      <td>0</td>\n",
       "      <td>0</td>\n",
       "    </tr>\n",
       "  </tbody>\n",
       "</table>\n",
       "<p>10000 rows × 13 columns</p>\n",
       "</div>"
      ],
      "text/plain": [
       "      Product ID Type  Air temperature [K]  Process temperature [K]  \\\n",
       "UDI                                                                   \n",
       "1         M14860    M           298.100000               308.600000   \n",
       "2         L47181    L           298.200000               308.700000   \n",
       "3         L47182    L           298.100000               308.500000   \n",
       "4         L47183    L           298.200000               308.600000   \n",
       "5         L47184    L           298.200000               308.700000   \n",
       "...          ...  ...                  ...                      ...   \n",
       "9996      M24855    M           298.800000               308.400000   \n",
       "9997      H39410    H           298.900000               308.400000   \n",
       "9998      M24857    M           299.000000               308.600000   \n",
       "9999      H39412    H           299.000000               308.700000   \n",
       "10000     M24859    M           299.000000               308.700000   \n",
       "\n",
       "       Rotational speed [rpm]  Torque [Nm]  Tool wear [min]  Machine failure  \\\n",
       "UDI                                                                            \n",
       "1                        1551    42.800000                0                0   \n",
       "2                        1408    46.300000                3                0   \n",
       "3                        1498    49.400000                5                0   \n",
       "4                        1433    39.500000                7                0   \n",
       "5                        1408    40.000000                9                0   \n",
       "...                       ...          ...              ...              ...   \n",
       "9996                     1604    29.500000               14                0   \n",
       "9997                     1632    31.800000               17                0   \n",
       "9998                     1645    33.400000               22                0   \n",
       "9999                     1408    48.500000               25                0   \n",
       "10000                    1500    40.200000               30                0   \n",
       "\n",
       "       TWF  HDF  PWF  OSF  RNF  \n",
       "UDI                             \n",
       "1        0    0    0    0    0  \n",
       "2        0    0    0    0    0  \n",
       "3        0    0    0    0    0  \n",
       "4        0    0    0    0    0  \n",
       "5        0    0    0    0    0  \n",
       "...    ...  ...  ...  ...  ...  \n",
       "9996     0    0    0    0    0  \n",
       "9997     0    0    0    0    0  \n",
       "9998     0    0    0    0    0  \n",
       "9999     0    0    0    0    0  \n",
       "10000    0    0    0    0    0  \n",
       "\n",
       "[10000 rows x 13 columns]"
      ]
     },
     "execution_count": 5,
     "metadata": {},
     "output_type": "execute_result"
    }
   ],
   "source": [
    "data"
   ]
  },
  {
   "cell_type": "markdown",
   "id": "1c541694-0c0a-412b-8e86-c93b9be5024a",
   "metadata": {},
   "source": [
    "# Clean data"
   ]
  },
  {
   "cell_type": "code",
   "execution_count": 6,
   "id": "d596c7fd-6fb3-4cf2-b6ff-4bfa0e77b809",
   "metadata": {},
   "outputs": [
    {
     "data": {
      "text/html": [
       "<div>\n",
       "<style scoped>\n",
       "    .dataframe tbody tr th:only-of-type {\n",
       "        vertical-align: middle;\n",
       "    }\n",
       "\n",
       "    .dataframe tbody tr th {\n",
       "        vertical-align: top;\n",
       "    }\n",
       "\n",
       "    .dataframe thead th {\n",
       "        text-align: right;\n",
       "    }\n",
       "</style>\n",
       "<table border=\"1\" class=\"dataframe\">\n",
       "  <thead>\n",
       "    <tr style=\"text-align: right;\">\n",
       "      <th></th>\n",
       "      <th>Air temperature [K]</th>\n",
       "      <th>Process temperature [K]</th>\n",
       "      <th>Rotational speed [rpm]</th>\n",
       "      <th>Torque [Nm]</th>\n",
       "      <th>Tool wear [min]</th>\n",
       "      <th>Machine failure</th>\n",
       "    </tr>\n",
       "    <tr>\n",
       "      <th>UDI</th>\n",
       "      <th></th>\n",
       "      <th></th>\n",
       "      <th></th>\n",
       "      <th></th>\n",
       "      <th></th>\n",
       "      <th></th>\n",
       "    </tr>\n",
       "  </thead>\n",
       "  <tbody>\n",
       "    <tr>\n",
       "      <th>1</th>\n",
       "      <td>298.100000</td>\n",
       "      <td>308.600000</td>\n",
       "      <td>1551</td>\n",
       "      <td>42.800000</td>\n",
       "      <td>0</td>\n",
       "      <td>0</td>\n",
       "    </tr>\n",
       "    <tr>\n",
       "      <th>2</th>\n",
       "      <td>298.200000</td>\n",
       "      <td>308.700000</td>\n",
       "      <td>1408</td>\n",
       "      <td>46.300000</td>\n",
       "      <td>3</td>\n",
       "      <td>0</td>\n",
       "    </tr>\n",
       "    <tr>\n",
       "      <th>3</th>\n",
       "      <td>298.100000</td>\n",
       "      <td>308.500000</td>\n",
       "      <td>1498</td>\n",
       "      <td>49.400000</td>\n",
       "      <td>5</td>\n",
       "      <td>0</td>\n",
       "    </tr>\n",
       "    <tr>\n",
       "      <th>4</th>\n",
       "      <td>298.200000</td>\n",
       "      <td>308.600000</td>\n",
       "      <td>1433</td>\n",
       "      <td>39.500000</td>\n",
       "      <td>7</td>\n",
       "      <td>0</td>\n",
       "    </tr>\n",
       "    <tr>\n",
       "      <th>5</th>\n",
       "      <td>298.200000</td>\n",
       "      <td>308.700000</td>\n",
       "      <td>1408</td>\n",
       "      <td>40.000000</td>\n",
       "      <td>9</td>\n",
       "      <td>0</td>\n",
       "    </tr>\n",
       "    <tr>\n",
       "      <th>...</th>\n",
       "      <td>...</td>\n",
       "      <td>...</td>\n",
       "      <td>...</td>\n",
       "      <td>...</td>\n",
       "      <td>...</td>\n",
       "      <td>...</td>\n",
       "    </tr>\n",
       "    <tr>\n",
       "      <th>9996</th>\n",
       "      <td>298.800000</td>\n",
       "      <td>308.400000</td>\n",
       "      <td>1604</td>\n",
       "      <td>29.500000</td>\n",
       "      <td>14</td>\n",
       "      <td>0</td>\n",
       "    </tr>\n",
       "    <tr>\n",
       "      <th>9997</th>\n",
       "      <td>298.900000</td>\n",
       "      <td>308.400000</td>\n",
       "      <td>1632</td>\n",
       "      <td>31.800000</td>\n",
       "      <td>17</td>\n",
       "      <td>0</td>\n",
       "    </tr>\n",
       "    <tr>\n",
       "      <th>9998</th>\n",
       "      <td>299.000000</td>\n",
       "      <td>308.600000</td>\n",
       "      <td>1645</td>\n",
       "      <td>33.400000</td>\n",
       "      <td>22</td>\n",
       "      <td>0</td>\n",
       "    </tr>\n",
       "    <tr>\n",
       "      <th>9999</th>\n",
       "      <td>299.000000</td>\n",
       "      <td>308.700000</td>\n",
       "      <td>1408</td>\n",
       "      <td>48.500000</td>\n",
       "      <td>25</td>\n",
       "      <td>0</td>\n",
       "    </tr>\n",
       "    <tr>\n",
       "      <th>10000</th>\n",
       "      <td>299.000000</td>\n",
       "      <td>308.700000</td>\n",
       "      <td>1500</td>\n",
       "      <td>40.200000</td>\n",
       "      <td>30</td>\n",
       "      <td>0</td>\n",
       "    </tr>\n",
       "  </tbody>\n",
       "</table>\n",
       "<p>10000 rows × 6 columns</p>\n",
       "</div>"
      ],
      "text/plain": [
       "       Air temperature [K]  Process temperature [K]  Rotational speed [rpm]  \\\n",
       "UDI                                                                           \n",
       "1               298.100000               308.600000                    1551   \n",
       "2               298.200000               308.700000                    1408   \n",
       "3               298.100000               308.500000                    1498   \n",
       "4               298.200000               308.600000                    1433   \n",
       "5               298.200000               308.700000                    1408   \n",
       "...                    ...                      ...                     ...   \n",
       "9996            298.800000               308.400000                    1604   \n",
       "9997            298.900000               308.400000                    1632   \n",
       "9998            299.000000               308.600000                    1645   \n",
       "9999            299.000000               308.700000                    1408   \n",
       "10000           299.000000               308.700000                    1500   \n",
       "\n",
       "       Torque [Nm]  Tool wear [min]  Machine failure  \n",
       "UDI                                                   \n",
       "1        42.800000                0                0  \n",
       "2        46.300000                3                0  \n",
       "3        49.400000                5                0  \n",
       "4        39.500000                7                0  \n",
       "5        40.000000                9                0  \n",
       "...            ...              ...              ...  \n",
       "9996     29.500000               14                0  \n",
       "9997     31.800000               17                0  \n",
       "9998     33.400000               22                0  \n",
       "9999     48.500000               25                0  \n",
       "10000    40.200000               30                0  \n",
       "\n",
       "[10000 rows x 6 columns]"
      ]
     },
     "execution_count": 6,
     "metadata": {},
     "output_type": "execute_result"
    }
   ],
   "source": [
    "data_cl = clean_data(data, drop_type=True)\n",
    "data_cl"
   ]
  },
  {
   "cell_type": "markdown",
   "id": "c490c757-ee0a-4616-81bf-26c935e7e7ca",
   "metadata": {},
   "source": [
    "# Prepare data"
   ]
  },
  {
   "cell_type": "code",
   "execution_count": 7,
   "id": "b255c974-4f7c-47db-be02-0b101552265c",
   "metadata": {},
   "outputs": [],
   "source": [
    "X = data_cl.copy()\n",
    "y = X.pop('Machine failure')"
   ]
  },
  {
   "cell_type": "markdown",
   "id": "f8929605-55cb-4528-b8e8-07f5eb90f0ac",
   "metadata": {},
   "source": [
    "# Split train and test"
   ]
  },
  {
   "cell_type": "code",
   "execution_count": 8,
   "id": "aba105d1-a8f5-4fe7-94bc-317f153ed431",
   "metadata": {
    "tags": []
   },
   "outputs": [],
   "source": [
    "balance = True\n",
    "if balance:\n",
    "    data_bal, method = balance_data(X, y, random_state=RANDOM_STATE, method='ROS')\n",
    "    X_bl, y_bl = data_bal\n",
    "\n",
    "    # print(X_bl.info())\n",
    "    # print(y_bl.info())\n",
    "\n",
    "    # y_bl.value_counts().plot(kind='bar')\n",
    "\n",
    "    X_train, X_test, y_train, y_test = train_test_split(X_bl, y_bl, train_size=0.8, random_state=RANDOM_STATE)\n",
    "else:\n",
    "    X_train, X_test, y_train, y_test = train_test_split(X, y, train_size=0.8, random_state=RANDOM_STATE)"
   ]
  },
  {
   "cell_type": "code",
   "execution_count": 9,
   "id": "16973651-70dd-4423-831b-4271a5579e21",
   "metadata": {},
   "outputs": [
    {
     "data": {
      "text/plain": [
       "0    9661\n",
       "1     339\n",
       "Name: Machine failure, dtype: int64"
      ]
     },
     "execution_count": 9,
     "metadata": {},
     "output_type": "execute_result"
    }
   ],
   "source": [
    "y_imb = y.value_counts()\n",
    "y_imb"
   ]
  },
  {
   "cell_type": "code",
   "execution_count": 10,
   "id": "2318c534-9671-4be7-9307-ae1eb7f68727",
   "metadata": {},
   "outputs": [
    {
     "data": {
      "text/plain": [
       "[Text(0, 0, '9661'), Text(0, 0, '339')]"
      ]
     },
     "execution_count": 10,
     "metadata": {},
     "output_type": "execute_result"
    },
    {
     "data": {
      "image/png": "[encoded data removed]",
      "text/plain": [
       "<Figure size 640x480 with 1 Axes>"
      ]
     },
     "metadata": {},
     "output_type": "display_data"
    }
   ],
   "source": [
    "ax = sns.barplot(\n",
    "    y=y_imb,\n",
    "    x=y_imb.index\n",
    ")\n",
    "\n",
    "ax.bar_label(ax.containers[0])"
   ]
  },
  {
   "cell_type": "code",
   "execution_count": 11,
   "id": "4852e8d4-9adf-456c-8394-3dc157595a5a",
   "metadata": {},
   "outputs": [
    {
     "data": {
      "text/plain": [
       "[Text(0, 0, '9661'), Text(0, 0, '9661')]"
      ]
     },
     "execution_count": 11,
     "metadata": {},
     "output_type": "execute_result"
    },
    {
     "data": {
      "image/png": "[encoded data removed]",
      "text/plain": [
       "<Figure size 640x480 with 1 Axes>"
      ]
     },
     "metadata": {},
     "output_type": "display_data"
    }
   ],
   "source": [
    "y_b = y_bl.value_counts()\n",
    "ax = sns.barplot(\n",
    "    y=y_b,\n",
    "    x=y_b.index\n",
    ")\n",
    "\n",
    "ax.bar_label(ax.containers[0])"
   ]
  },
  {
   "cell_type": "markdown",
   "id": "9d31d8c4-b107-4f59-8785-487c5a1c47f1",
   "metadata": {
    "tags": []
   },
   "source": [
    "# Baseline model"
   ]
  },
  {
   "cell_type": "markdown",
   "id": "f5589933-2781-4082-8a51-309d91d9def2",
   "metadata": {
    "tags": []
   },
   "source": [
    "## Pipeline"
   ]
  },
  {
   "cell_type": "code",
   "execution_count": 12,
   "id": "02b14c78-c06a-4a25-b208-dcd9bc61691b",
   "metadata": {},
   "outputs": [],
   "source": [
    "# params = {}"
   ]
  },
  {
   "cell_type": "code",
   "execution_count": 13,
   "id": "10be4e4c-5788-4e50-bc4a-b2e4222ce0e8",
   "metadata": {
    "tags": []
   },
   "outputs": [],
   "source": [
    "# pipe = Pipeline([\n",
    "#     ('scaler', StandardScaler()),\n",
    "#     # ('estimator', DecisionTreeClassifier(random_state=RANDOM_STATE))\n",
    "#     ('estimator', ExtraTreesClassifier())\n",
    "# ])"
   ]
  },
  {
   "cell_type": "code",
   "execution_count": 14,
   "id": "da8817e2-3ce5-4adc-b044-c5206f1f135d",
   "metadata": {
    "tags": []
   },
   "outputs": [],
   "source": [
    "# pipe.fit(X_train, y_train)"
   ]
  },
  {
   "cell_type": "code",
   "execution_count": 15,
   "id": "9ab30f6f-7391-49ff-9dce-f69253382975",
   "metadata": {},
   "outputs": [],
   "source": [
    "# y_pred = pipe.predict(X_test)"
   ]
  },
  {
   "cell_type": "code",
   "execution_count": 16,
   "id": "465666db-886a-4ba6-ae8c-fa5591c6994c",
   "metadata": {},
   "outputs": [],
   "source": [
    "# grid = GridSearchCV(\n",
    "#     pipe,\n",
    "#     param_grid=params,\n",
    "#     scoring='accuracy',\n",
    "#     cv=5,\n",
    "#     verbose=1\n",
    "# )"
   ]
  },
  {
   "cell_type": "code",
   "execution_count": 17,
   "id": "c1332c1b-ef4e-4b5a-b8fc-727d9300d634",
   "metadata": {},
   "outputs": [],
   "source": [
    "# grid.fit(X_train, y_train)"
   ]
  },
  {
   "cell_type": "code",
   "execution_count": 18,
   "id": "7f53054d-8389-4400-9f45-7b27801ea5c4",
   "metadata": {},
   "outputs": [],
   "source": [
    "# best_score = grid.best_score_\n",
    "# print(best_score)"
   ]
  },
  {
   "cell_type": "code",
   "execution_count": 19,
   "id": "b2914754-ba6a-4ede-8105-2f77c9f5dfb0",
   "metadata": {},
   "outputs": [],
   "source": [
    "# best = grid.best_estimator_"
   ]
  },
  {
   "cell_type": "code",
   "execution_count": 20,
   "id": "4c722947-069c-4227-abcf-90a4e9f5c88f",
   "metadata": {},
   "outputs": [],
   "source": [
    "# y_pred = best.predict(X_test)"
   ]
  },
  {
   "cell_type": "markdown",
   "id": "38ba9219-3a54-4d90-b817-198fd49530e1",
   "metadata": {},
   "source": [
    "## Evaluation"
   ]
  },
  {
   "cell_type": "code",
   "execution_count": 21,
   "id": "d62382c1-a3b8-4cd4-b7d4-0407ca1f9159",
   "metadata": {},
   "outputs": [],
   "source": [
    "# accuracy, recall, precision, f1s, roc = evaluate_model(y_test, y_predictions=y_pred)"
   ]
  },
  {
   "cell_type": "code",
   "execution_count": 22,
   "id": "226d95d1-de28-4c11-9024-8be0c41a8b6e",
   "metadata": {},
   "outputs": [],
   "source": [
    "# print(f\"Accuracy: {accuracy:.2%}\")\n",
    "# print(f\"Recall: {recall:.2%}\")\n",
    "# print(f\"Precision: {precision:.2%}\")\n",
    "# print(f\"F1-Score: {f1s:.2%}\")\n",
    "# print(f\"ROC AUC score: {roc:.2%}\")"
   ]
  },
  {
   "cell_type": "code",
   "execution_count": 23,
   "id": "d4e559f7-209d-4ed5-a66e-dbb01323fea4",
   "metadata": {},
   "outputs": [],
   "source": [
    "# conf_matrix = confusion_matrix(y_test, y_pred)\n",
    "# sns.heatmap(data=conf_matrix, annot=True)"
   ]
  },
  {
   "cell_type": "code",
   "execution_count": 24,
   "id": "12053e74-239a-4655-bbc6-f3f8fbad9876",
   "metadata": {},
   "outputs": [],
   "source": [
    "# conf_matrix"
   ]
  },
  {
   "cell_type": "markdown",
   "id": "e1492436-695a-406a-b93f-da20430a51a5",
   "metadata": {},
   "source": [
    "# Grid search"
   ]
  },
  {
   "cell_type": "code",
   "execution_count": 25,
   "id": "15b03cc4-4e7f-49d6-897d-578751a4e82c",
   "metadata": {},
   "outputs": [],
   "source": [
    "params_pre = {\n",
    "    \"scaler__with_mean\": [True, False],\n",
    "    \"scaler__with_std\": [True, False]\n",
    "}"
   ]
  },
  {
   "cell_type": "code",
   "execution_count": 26,
   "id": "bfda8619-b7c2-433f-94bd-a7ad2c0964f8",
   "metadata": {},
   "outputs": [],
   "source": [
    "estimators = {\n",
    "    # 'DT': [DecisionTreeClassifier(random_state=RANDOM_STATE), {\n",
    "    #     'estimator__max_depth': [None, 3, 6],\n",
    "    #     'estimator__criterion': ['gini', 'entropy', 'log_loss']\n",
    "    # }],\n",
    "    # 'RF': [RandomForestClassifier(random_state=RANDOM_STATE), {\n",
    "    #     'estimator__n_estimators': range(50, 200, 50)\n",
    "    # }],\n",
    "    # 'BC': [BaggingClassifier(SVC(), random_state=RANDOM_STATE), {\n",
    "    #     'estimator__n_estimators': range(5, 16, 5)\n",
    "    # }],\n",
    "    'ET': [ExtraTreesClassifier(random_state=RANDOM_STATE), {\n",
    "        'estimator__n_estimators': range(50, 200, 50),\n",
    "        'estimator__criterion': ['gini', 'entropy', 'log_loss'],\n",
    "        'estimator__max_depth': [None, 3, 6]\n",
    "    }],\n",
    "    # 'XG': [XGBClassifier(), {\n",
    "    #     'estimator__n_estimators': range(50, 200, 50),\n",
    "    #     'estimator__max_depth': [None, 3, 6],\n",
    "    #     'estimator__learning_rate': [0.01, 0.05, 0.1]\n",
    "    # }]\n",
    "\n",
    "}"
   ]
  },
  {
   "cell_type": "code",
   "execution_count": 27,
   "id": "e5a7b0f6-61b4-43dc-a6fe-fb0b1cc1e0b2",
   "metadata": {
    "tags": []
   },
   "outputs": [],
   "source": [
    "def create_pipeline_and_cvparams(estimator):\n",
    "\n",
    "    pipe = Pipeline([\n",
    "        ('scaler', StandardScaler()),\n",
    "        ('estimator', estimator[1][0])\n",
    "    ])\n",
    "\n",
    "    cvparams = estimator[1][1]\n",
    "\n",
    "    return pipe, cvparams"
   ]
  },
  {
   "cell_type": "code",
   "execution_count": 28,
   "id": "9368348d-3005-4a7e-afa3-c6118501bf0b",
   "metadata": {
    "tags": []
   },
   "outputs": [],
   "source": [
    "def run_model(xtrain, ytrain, xtest, ytest, params_pre, estimator, cv):\n",
    "\n",
    "    pipe, params_est = create_pipeline_and_cvparams(estimator=estimator)\n",
    "\n",
    "    if params_est:\n",
    "        params = params_pre | params_est\n",
    "    else:\n",
    "        params = params_pre\n",
    "\n",
    "    grid = GridSearchCV(pipe, params, cv=cv, verbose=1)\n",
    "    grid.fit(xtrain, ytrain)\n",
    "\n",
    "    grid_score       = grid.best_score_\n",
    "    grid_best_params = grid.best_params_\n",
    "    best_estimator   = grid.best_estimator_\n",
    "\n",
    "    return best_estimator, grid_best_params, grid_score"
   ]
  },
  {
   "cell_type": "code",
   "execution_count": 29,
   "id": "07abe838-f7f3-4787-a92c-99ad1a2e8b5c",
   "metadata": {
    "tags": []
   },
   "outputs": [
    {
     "name": "stdout",
     "output_type": "stream",
     "text": [
      "Fitting 5 folds for each of 108 candidates, totalling 540 fits\n"
     ]
    }
   ],
   "source": [
    "total = {}\n",
    "for estimator in estimators.items():\n",
    "    model, best_params, score = run_model(\n",
    "        xtrain=X_train,\n",
    "        ytrain=y_train,\n",
    "        xtest=X_test,\n",
    "        ytest=y_test,\n",
    "        params_pre=params_pre,\n",
    "        estimator=estimator,\n",
    "        cv=5\n",
    "    )\n",
    "\n",
    "    total[estimator[0]] = {\n",
    "        'model': model,\n",
    "        'best_params': best_params,\n",
    "        'grid_score': score,\n",
    "    }"
   ]
  },
  {
   "cell_type": "code",
   "execution_count": 30,
   "id": "71d25623-8776-478e-85f1-2bc630a5e8cd",
   "metadata": {},
   "outputs": [],
   "source": [
    "def get_scores(results, estimator, X_train, y_train, X_test, y_test):\n",
    "    cur = total[estimator]['model']\n",
    "    cur.fit(X_train, y_train)\n",
    "\n",
    "    y_pred = cur.predict(X_test)\n",
    "\n",
    "    accuracy = accuracy_score(y_test, y_pred)\n",
    "    print(accuracy)"
   ]
  },
  {
   "cell_type": "code",
   "execution_count": 31,
   "id": "cfbe2d7d-7954-4cf4-b569-b0095e8f35d3",
   "metadata": {},
   "outputs": [
    {
     "name": "stdout",
     "output_type": "stream",
     "text": [
      "0.9992238033635188\n"
     ]
    }
   ],
   "source": [
    "for key in total.keys():\n",
    "    get_scores(total, key, X_train, y_train, X_test, y_test)"
   ]
  },
  {
   "cell_type": "markdown",
   "id": "5bea7394-72ef-4bd3-a640-0ca2312beb6f",
   "metadata": {},
   "source": [
    "# Save best model"
   ]
  },
  {
   "cell_type": "code",
   "execution_count": 32,
   "id": "21001daa-d139-43e1-9cb3-6843a2c0997f",
   "metadata": {},
   "outputs": [],
   "source": [
    "best_model = total['ET']['model']"
   ]
  },
  {
   "cell_type": "code",
   "execution_count": 54,
   "id": "182a4e13-7407-431f-89bd-b376387b93da",
   "metadata": {},
   "outputs": [
    {
     "data": {
      "text/plain": [
       "<Axes: >"
      ]
     },
     "execution_count": 54,
     "metadata": {},
     "output_type": "execute_result"
    },
    {
     "data": {
      "image/png": "[encoded data removed]",
      "text/plain": [
       "<Figure size 640x480 with 1 Axes>"
      ]
     },
     "metadata": {},
     "output_type": "display_data"
    }
   ],
   "source": [
    "fnames = X.columns\n",
    "fimps = best_model.named_steps['estimator'].feature_importances_\n",
    "\n",
    "fs = dict()\n",
    "for i in range(len(fnames)):\n",
    "    fs[fnames[i]] = [100*fimps[i]]\n",
    "fs = pd.DataFrame(fs, columns=fnames)\n",
    "sns.barplot(\n",
    "    data=fs,\n",
    ")"
   ]
  },
  {
   "cell_type": "code",
   "execution_count": null,
   "id": "6c5b3297-11d7-42ff-9464-5a5bb113877e",
   "metadata": {},
   "outputs": [],
   "source": [
    "dot_data = export_graphviz(\n",
    "    best_model,\n",
    "    feature_names=fnames,\n",
    "    filled=True, rounded=True,\n",
    "    special_characters=True,\n",
    "    out_file=None,\n",
    ")\n",
    "graph = graphviz.Source(dot_data)"
   ]
  },
  {
   "cell_type": "code",
   "execution_count": null,
   "id": "d74ebd83-9af0-4087-941f-d246cca4d9ef",
   "metadata": {},
   "outputs": [],
   "source": [
    "graph.format = \"png\"\n",
    "graph.render(\"test\")"
   ]
  },
  {
   "cell_type": "code",
   "execution_count": null,
   "id": "d6f806b7-d4bc-4b14-aff2-90b82e48634f",
   "metadata": {},
   "outputs": [],
   "source": [
    "# joblib.dump(total['ET']['model'], 'ML_balanced_single.joblib')"
   ]
  },
  {
   "cell_type": "markdown",
   "id": "f800e61b-9c02-47b9-81e6-831fbc2f4c38",
   "metadata": {
    "tags": []
   },
   "source": [
    "# Lazy Osveh method"
   ]
  },
  {
   "cell_type": "code",
   "execution_count": null,
   "id": "2150fd8c-76cc-4052-803f-6199477a4911",
   "metadata": {},
   "outputs": [],
   "source": [
    "# from lazypredict.Supervised import LazyClassifier"
   ]
  },
  {
   "cell_type": "code",
   "execution_count": null,
   "id": "1e9b5280-f59e-4500-9fed-97b6ba4ffde5",
   "metadata": {},
   "outputs": [],
   "source": [
    "# clf = LazyClassifier(random_state=RANDOM_STATE, predictions=True)"
   ]
  },
  {
   "cell_type": "code",
   "execution_count": null,
   "id": "02b7fc5c-d6dd-4dc7-84c8-2d904ebf7364",
   "metadata": {},
   "outputs": [],
   "source": [
    "# models, predictions = clf.fit(X_train, X_test, y_train, y_test)"
   ]
  },
  {
   "cell_type": "code",
   "execution_count": null,
   "id": "522f6367-4182-4c13-b127-cf2830d232ab",
   "metadata": {},
   "outputs": [],
   "source": [
    "# models.apply(lambda x: 100*x, axis=1)"
   ]
  },
  {
   "cell_type": "code",
   "execution_count": null,
   "id": "88481918-e61b-48f4-ad2f-00e5d4d18ef8",
   "metadata": {},
   "outputs": [],
   "source": [
    "# model_dict = clf.provide_models(X_train, X_test, y_train, y_test)"
   ]
  },
  {
   "cell_type": "code",
   "execution_count": null,
   "id": "60d41c9b-6b43-41df-9aab-71c1613d8951",
   "metadata": {},
   "outputs": [],
   "source": [
    "# model_dict['ExtraTreesClassifier']"
   ]
  },
  {
   "cell_type": "code",
   "execution_count": null,
   "id": "6d1853d8-9b0f-42ec-809a-9442faf9521a",
   "metadata": {},
   "outputs": [],
   "source": [
    "# ax= plt.subplot()\n",
    "# conf_matrix = confusion_matrix(y_test, y_pred)\n",
    "# s = sns.heatmap(data=conf_matrix, annot=True, ax=ax)\n",
    "# #s.set(xlabel='X-Axis', ylabel='Y-Axis')\n",
    "# ax.xaxis.set_ticklabels(['Without Failure', 'Failure'])\n",
    "# ax.yaxis.set_ticklabels(['Without Failure', 'Failure'])"
   ]
  }
 ],
 "metadata": {
  "kernelspec": {
   "display_name": "Python 3 (ipykernel)",
   "language": "python",
   "name": "python3"
  },
  "language_info": {
   "codemirror_mode": {
    "name": "ipython",
    "version": 3
   },
   "file_extension": ".py",
   "mimetype": "text/x-python",
   "name": "python",
   "nbconvert_exporter": "python",
   "pygments_lexer": "ipython3",
   "version": "3.11.3"
  }
 },
 "nbformat": 4,
 "nbformat_minor": 5
}
